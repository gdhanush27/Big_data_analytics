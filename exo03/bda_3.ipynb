{
  "nbformat": 4,
  "nbformat_minor": 0,
  "metadata": {
    "colab": {
      "provenance": []
    },
    "kernelspec": {
      "name": "python3",
      "display_name": "Python 3"
    },
    "language_info": {
      "name": "python"
    }
  },
  "cells": [
    {
      "cell_type": "code",
      "execution_count": null,
      "metadata": {
        "colab": {
          "base_uri": "https://localhost:8080/"
        },
        "id": "8Ufxb5XRJKJs",
        "outputId": "a60ef8d1-0584-4c42-cdda-ccb47aa1454f"
      },
      "outputs": [
        {
          "output_type": "stream",
          "name": "stdout",
          "text": [
            "Collecting pyspark\n",
            "  Downloading pyspark-3.4.1.tar.gz (310.8 MB)\n",
            "\u001b[2K     \u001b[90m━━━━━━━━━━━━━━━━━━━━━━━━━━━━━━━━━━━━━━━\u001b[0m \u001b[32m310.8/310.8 MB\u001b[0m \u001b[31m2.6 MB/s\u001b[0m eta \u001b[36m0:00:00\u001b[0m\n",
            "\u001b[?25h  Preparing metadata (setup.py) ... \u001b[?25l\u001b[?25hdone\n",
            "Requirement already satisfied: py4j==0.10.9.7 in /usr/local/lib/python3.10/dist-packages (from pyspark) (0.10.9.7)\n",
            "Building wheels for collected packages: pyspark\n",
            "  Building wheel for pyspark (setup.py) ... \u001b[?25l\u001b[?25hdone\n",
            "  Created wheel for pyspark: filename=pyspark-3.4.1-py2.py3-none-any.whl size=311285388 sha256=aeefb5aae3bd33f998a3ba2093179e59a183c6f02bbab74ef3fc81f7e3d364c5\n",
            "  Stored in directory: /root/.cache/pip/wheels/0d/77/a3/ff2f74cc9ab41f8f594dabf0579c2a7c6de920d584206e0834\n",
            "Successfully built pyspark\n",
            "Installing collected packages: pyspark\n",
            "Successfully installed pyspark-3.4.1\n"
          ]
        }
      ],
      "source": [
        "!pip install pyspark"
      ]
    },
    {
      "cell_type": "code",
      "source": [
        "import pyspark\n",
        "from pyspark.sql import SparkSession"
      ],
      "metadata": {
        "id": "40uH3UcEMb4u"
      },
      "execution_count": null,
      "outputs": []
    },
    {
      "cell_type": "code",
      "source": [
        "spark=SparkSession.builder.appName('sparkdf').getOrCreate()"
      ],
      "metadata": {
        "id": "ImvGlyauM30X"
      },
      "execution_count": null,
      "outputs": []
    },
    {
      "cell_type": "code",
      "source": [
        "data=[\n",
        "    [\"21ALR001\", \"akilan\", \"KEC\", \"AI\",77, 98],\n",
        "    [\"21ALR002\", \"arun\", \"KEC\",\"AI\", 78, 87],\n",
        "    [\"21ALR003\", \"arunesh mahadevan\", \"KEC\", \"AI\", 48, 69],\n",
        "    [\"21ALR004\", \"arvind\", \"KEC\", \"AI\",13, 65],\n",
        "    [\"21ALR005\", \"ashok\", \"KEC\", \"CSE\", 76, 82],\n",
        "    [\"21ALR006\", \"dhanush\", \"KEC\", \"AI\", 100, 100],\n",
        "    [\"21ALR007\", \"divish\", \"KEC\", \"CSE\",87, 69],\n",
        "    [\"21ALR008\", \"gowtham\", \"KEC\",\"AI\", 69, 96],\n",
        "    [\"21ALR009\", \"hardik\", \"KEC\",\"AI\", 86, 88],\n",
        "    [\"21ALR010\", \"kalki\", \"KEC\", \"IT\", 90, 60],\n",
        "    ]"
      ],
      "metadata": {
        "id": "eE_8xSt5RclH"
      },
      "execution_count": null,
      "outputs": []
    },
    {
      "cell_type": "code",
      "source": [
        "columns=['studentID', 'studentname', 'collegename','dept','subject1', 'subject2']"
      ],
      "metadata": {
        "id": "6Ho1W8GJS4H9"
      },
      "execution_count": null,
      "outputs": []
    },
    {
      "cell_type": "code",
      "source": [
        "df=spark.createDataFrame(data,columns)\n",
        "df.show()"
      ],
      "metadata": {
        "colab": {
          "base_uri": "https://localhost:8080/"
        },
        "id": "3hpdJsvTTREb",
        "outputId": "e9dc4aa6-88a4-4957-87c4-6fa216aeed8f"
      },
      "execution_count": null,
      "outputs": [
        {
          "output_type": "stream",
          "name": "stdout",
          "text": [
            "+---------+-----------------+-----------+----+--------+--------+\n",
            "|studentID|      studentname|collegename|dept|subject1|subject2|\n",
            "+---------+-----------------+-----------+----+--------+--------+\n",
            "| 21ALR001|           akilan|        KEC|  AI|      77|      98|\n",
            "| 21ALR002|             arun|        KEC|  AI|      78|      87|\n",
            "| 21ALR003|arunesh mahadevan|        KEC|  AI|      48|      69|\n",
            "| 21ALR004|           arvind|        KEC|  AI|      13|      65|\n",
            "| 21ALR005|            ashok|        KEC| CSE|      76|      82|\n",
            "| 21ALR006|          dhanush|        KEC|  AI|     100|     100|\n",
            "| 21ALR007|           divish|        KEC| CSE|      87|      69|\n",
            "| 21ALR008|          gowtham|        KEC|  AI|      69|      96|\n",
            "| 21ALR009|           hardik|        KEC|  AI|      86|      88|\n",
            "| 21ALR010|            kalki|        KEC|  IT|      90|      60|\n",
            "+---------+-----------------+-----------+----+--------+--------+\n",
            "\n"
          ]
        }
      ]
    },
    {
      "cell_type": "code",
      "source": [
        "df.printSchema()"
      ],
      "metadata": {
        "colab": {
          "base_uri": "https://localhost:8080/"
        },
        "id": "yNNtoFFeTl20",
        "outputId": "99b2373b-cf62-40a6-d534-4606f266361a"
      },
      "execution_count": null,
      "outputs": [
        {
          "output_type": "stream",
          "name": "stdout",
          "text": [
            "root\n",
            " |-- studentID: string (nullable = true)\n",
            " |-- studentname: string (nullable = true)\n",
            " |-- collegename: string (nullable = true)\n",
            " |-- dept: string (nullable = true)\n",
            " |-- subject1: long (nullable = true)\n",
            " |-- subject2: long (nullable = true)\n",
            "\n"
          ]
        }
      ]
    },
    {
      "cell_type": "code",
      "source": [
        "from os import truncate\n",
        "df.show(n=5,truncate=12)"
      ],
      "metadata": {
        "colab": {
          "base_uri": "https://localhost:8080/"
        },
        "id": "SmhDSRa7Twy3",
        "outputId": "35dca45c-d2dc-44f2-ecc9-7e66f6ab3d20"
      },
      "execution_count": null,
      "outputs": [
        {
          "output_type": "stream",
          "name": "stdout",
          "text": [
            "+---------+------------+-----------+----+--------+--------+\n",
            "|studentID| studentname|collegename|dept|subject1|subject2|\n",
            "+---------+------------+-----------+----+--------+--------+\n",
            "| 21ALR001|      akilan|        KEC|  AI|      77|      98|\n",
            "| 21ALR002|        arun|        KEC|  AI|      78|      87|\n",
            "| 21ALR003|arunesh m...|        KEC|  AI|      48|      69|\n",
            "| 21ALR004|      arvind|        KEC|  AI|      13|      65|\n",
            "| 21ALR005|       ashok|        KEC| CSE|      76|      82|\n",
            "+---------+------------+-----------+----+--------+--------+\n",
            "only showing top 5 rows\n",
            "\n"
          ]
        }
      ]
    },
    {
      "cell_type": "code",
      "source": [
        "df.select('*').show()"
      ],
      "metadata": {
        "colab": {
          "base_uri": "https://localhost:8080/"
        },
        "id": "8y2P6uONUGdT",
        "outputId": "4f2ae4fd-97da-45e9-d8bc-9f6e11b23e57"
      },
      "execution_count": null,
      "outputs": [
        {
          "output_type": "stream",
          "name": "stdout",
          "text": [
            "+---------+-----------------+-----------+----+--------+--------+\n",
            "|studentID|      studentname|collegename|dept|subject1|subject2|\n",
            "+---------+-----------------+-----------+----+--------+--------+\n",
            "| 21ALR001|           akilan|        KEC|  AI|      77|      98|\n",
            "| 21ALR002|             arun|        KEC|  AI|      78|      87|\n",
            "| 21ALR003|arunesh mahadevan|        KEC|  AI|      48|      69|\n",
            "| 21ALR004|           arvind|        KEC|  AI|      13|      65|\n",
            "| 21ALR005|            ashok|        KEC| CSE|      76|      82|\n",
            "| 21ALR006|          dhanush|        KEC|  AI|     100|     100|\n",
            "| 21ALR007|           divish|        KEC| CSE|      87|      69|\n",
            "| 21ALR008|          gowtham|        KEC|  AI|      69|      96|\n",
            "| 21ALR009|           hardik|        KEC|  AI|      86|      88|\n",
            "| 21ALR010|            kalki|        KEC|  IT|      90|      60|\n",
            "+---------+-----------------+-----------+----+--------+--------+\n",
            "\n"
          ]
        }
      ]
    },
    {
      "cell_type": "code",
      "source": [
        "df.select(df.columns[1:4]).show()"
      ],
      "metadata": {
        "colab": {
          "base_uri": "https://localhost:8080/"
        },
        "id": "T77POCoIUsa-",
        "outputId": "9ba5d1b9-c09c-4438-b854-c96b3bb24d2d"
      },
      "execution_count": null,
      "outputs": [
        {
          "output_type": "stream",
          "name": "stdout",
          "text": [
            "+-----------------+-----------+----+\n",
            "|      studentname|collegename|dept|\n",
            "+-----------------+-----------+----+\n",
            "|           akilan|        KEC|  AI|\n",
            "|             arun|        KEC|  AI|\n",
            "|arunesh mahadevan|        KEC|  AI|\n",
            "|           arvind|        KEC|  AI|\n",
            "|            ashok|        KEC| CSE|\n",
            "|          dhanush|        KEC|  AI|\n",
            "|           divish|        KEC| CSE|\n",
            "|          gowtham|        KEC|  AI|\n",
            "|           hardik|        KEC|  AI|\n",
            "|            kalki|        KEC|  IT|\n",
            "+-----------------+-----------+----+\n",
            "\n"
          ]
        }
      ]
    },
    {
      "cell_type": "code",
      "source": [
        "datacollect=df.collect()\n",
        "print(datacollect)"
      ],
      "metadata": {
        "colab": {
          "base_uri": "https://localhost:8080/"
        },
        "id": "l-crGuiXU2Gj",
        "outputId": "8cb1aafd-d4ea-4109-cb18-201a7434dcac"
      },
      "execution_count": null,
      "outputs": [
        {
          "output_type": "stream",
          "name": "stdout",
          "text": [
            "[Row(studentID='21ALR001', studentname='akilan', collegename='KEC', dept='AI', subject1=77, subject2=98), Row(studentID='21ALR002', studentname='arun', collegename='KEC', dept='AI', subject1=78, subject2=87), Row(studentID='21ALR003', studentname='arunesh mahadevan', collegename='KEC', dept='AI', subject1=48, subject2=69), Row(studentID='21ALR004', studentname='arvind', collegename='KEC', dept='AI', subject1=13, subject2=65), Row(studentID='21ALR005', studentname='ashok', collegename='KEC', dept='CSE', subject1=76, subject2=82), Row(studentID='21ALR006', studentname='dhanush', collegename='KEC', dept='AI', subject1=100, subject2=100), Row(studentID='21ALR007', studentname='divish', collegename='KEC', dept='CSE', subject1=87, subject2=69), Row(studentID='21ALR008', studentname='gowtham', collegename='KEC', dept='AI', subject1=69, subject2=96), Row(studentID='21ALR009', studentname='hardik', collegename='KEC', dept='AI', subject1=86, subject2=88), Row(studentID='21ALR010', studentname='kalki', collegename='KEC', dept='IT', subject1=90, subject2=60)]\n"
          ]
        }
      ]
    },
    {
      "cell_type": "code",
      "source": [
        "df.filter(df.dept==\"CSE\").show()"
      ],
      "metadata": {
        "colab": {
          "base_uri": "https://localhost:8080/"
        },
        "id": "Cp4Gztl5VnP0",
        "outputId": "ce3756e4-70bc-4cb5-a692-23d2f0c3e08f"
      },
      "execution_count": null,
      "outputs": [
        {
          "output_type": "stream",
          "name": "stdout",
          "text": [
            "+---------+-----------+-----------+----+--------+--------+\n",
            "|studentID|studentname|collegename|dept|subject1|subject2|\n",
            "+---------+-----------+-----------+----+--------+--------+\n",
            "| 21ALR005|      ashok|        KEC| CSE|      76|      82|\n",
            "| 21ALR007|     divish|        KEC| CSE|      87|      69|\n",
            "+---------+-----------+-----------+----+--------+--------+\n",
            "\n"
          ]
        }
      ]
    },
    {
      "cell_type": "code",
      "source": [
        "df.filter(~(df.dept==\"CSE\")).show(truncate=12)"
      ],
      "metadata": {
        "colab": {
          "base_uri": "https://localhost:8080/"
        },
        "id": "BcFLVXFIWD6b",
        "outputId": "9e9ba1da-c15f-4d73-b476-e10e416745c1"
      },
      "execution_count": null,
      "outputs": [
        {
          "output_type": "stream",
          "name": "stdout",
          "text": [
            "+---------+------------+-----------+----+--------+--------+\n",
            "|studentID| studentname|collegename|dept|subject1|subject2|\n",
            "+---------+------------+-----------+----+--------+--------+\n",
            "| 21ALR001|      akilan|        KEC|  AI|      77|      98|\n",
            "| 21ALR002|        arun|        KEC|  AI|      78|      87|\n",
            "| 21ALR003|arunesh m...|        KEC|  AI|      48|      69|\n",
            "| 21ALR004|      arvind|        KEC|  AI|      13|      65|\n",
            "| 21ALR006|     dhanush|        KEC|  AI|     100|     100|\n",
            "| 21ALR008|     gowtham|        KEC|  AI|      69|      96|\n",
            "| 21ALR009|      hardik|        KEC|  AI|      86|      88|\n",
            "| 21ALR010|       kalki|        KEC|  IT|      90|      60|\n",
            "+---------+------------+-----------+----+--------+--------+\n",
            "\n"
          ]
        }
      ]
    },
    {
      "cell_type": "code",
      "source": [
        "df.filter(\"dept <> 'AI'\").show()"
      ],
      "metadata": {
        "colab": {
          "base_uri": "https://localhost:8080/"
        },
        "id": "gB_OLOdkWTac",
        "outputId": "c3f49187-6682-439b-904a-95a17a3fb3fa"
      },
      "execution_count": null,
      "outputs": [
        {
          "output_type": "stream",
          "name": "stdout",
          "text": [
            "+---------+-----------+-----------+----+--------+--------+\n",
            "|studentID|studentname|collegename|dept|subject1|subject2|\n",
            "+---------+-----------+-----------+----+--------+--------+\n",
            "| 21ALR005|      ashok|        KEC| CSE|      76|      82|\n",
            "| 21ALR007|     divish|        KEC| CSE|      87|      69|\n",
            "| 21ALR010|      kalki|        KEC|  IT|      90|      60|\n",
            "+---------+-----------+-----------+----+--------+--------+\n",
            "\n"
          ]
        }
      ]
    },
    {
      "cell_type": "code",
      "source": [
        "df.filter((df.dept==\"AI\") & (df.subject1 > 85)).show()\n"
      ],
      "metadata": {
        "colab": {
          "base_uri": "https://localhost:8080/"
        },
        "id": "6wTShNQuWuHz",
        "outputId": "0b1d3d11-417f-4081-9308-3670dbc1e232"
      },
      "execution_count": null,
      "outputs": [
        {
          "output_type": "stream",
          "name": "stdout",
          "text": [
            "+---------+-----------+-----------+----+--------+--------+\n",
            "|studentID|studentname|collegename|dept|subject1|subject2|\n",
            "+---------+-----------+-----------+----+--------+--------+\n",
            "| 21ALR006|    dhanush|        KEC|  AI|     100|     100|\n",
            "| 21ALR009|     hardik|        KEC|  AI|      86|      88|\n",
            "+---------+-----------+-----------+----+--------+--------+\n",
            "\n"
          ]
        }
      ]
    },
    {
      "cell_type": "code",
      "source": [
        "df.filter((df.dept==\"IT\") | (df.studentID==\"21ALR002\")).show()"
      ],
      "metadata": {
        "colab": {
          "base_uri": "https://localhost:8080/"
        },
        "id": "a2AuNtJBXRCb",
        "outputId": "cbf2f02a-ca2e-4f80-8271-a981c341f2ad"
      },
      "execution_count": null,
      "outputs": [
        {
          "output_type": "stream",
          "name": "stdout",
          "text": [
            "+---------+-----------+-----------+----+--------+--------+\n",
            "|studentID|studentname|collegename|dept|subject1|subject2|\n",
            "+---------+-----------+-----------+----+--------+--------+\n",
            "| 21ALR002|       arun|        KEC|  AI|      78|      87|\n",
            "| 21ALR010|      kalki|        KEC|  IT|      90|      60|\n",
            "+---------+-----------+-----------+----+--------+--------+\n",
            "\n"
          ]
        }
      ]
    },
    {
      "cell_type": "code",
      "source": [
        "li=[\"CSE\",\"IT\"]\n",
        "df.filter(df.dept.isin(li)==True).show()"
      ],
      "metadata": {
        "colab": {
          "base_uri": "https://localhost:8080/"
        },
        "id": "LO4W0sCoYPlz",
        "outputId": "46d92774-9887-4a85-c50c-5b67e84fe0c5"
      },
      "execution_count": null,
      "outputs": [
        {
          "output_type": "stream",
          "name": "stdout",
          "text": [
            "+---------+-----------+-----------+----+--------+--------+\n",
            "|studentID|studentname|collegename|dept|subject1|subject2|\n",
            "+---------+-----------+-----------+----+--------+--------+\n",
            "| 21ALR005|      ashok|        KEC| CSE|      76|      82|\n",
            "| 21ALR007|     divish|        KEC| CSE|      87|      69|\n",
            "| 21ALR010|      kalki|        KEC|  IT|      90|      60|\n",
            "+---------+-----------+-----------+----+--------+--------+\n",
            "\n"
          ]
        }
      ]
    },
    {
      "cell_type": "code",
      "source": [
        "df.filter(df.dept.startswith(\"C\")).show()"
      ],
      "metadata": {
        "colab": {
          "base_uri": "https://localhost:8080/"
        },
        "id": "h2zukJvUYzZi",
        "outputId": "3099ee7e-2c75-4381-ae40-550c2011a33b"
      },
      "execution_count": null,
      "outputs": [
        {
          "output_type": "stream",
          "name": "stdout",
          "text": [
            "+---------+-----------+-----------+----+--------+--------+\n",
            "|studentID|studentname|collegename|dept|subject1|subject2|\n",
            "+---------+-----------+-----------+----+--------+--------+\n",
            "| 21ALR005|      ashok|        KEC| CSE|      76|      82|\n",
            "| 21ALR007|     divish|        KEC| CSE|      87|      69|\n",
            "+---------+-----------+-----------+----+--------+--------+\n",
            "\n"
          ]
        }
      ]
    },
    {
      "cell_type": "code",
      "source": [
        "df.filter(df.studentID.endswith(\"10\")).show()"
      ],
      "metadata": {
        "colab": {
          "base_uri": "https://localhost:8080/"
        },
        "id": "RNxKuXfLZA68",
        "outputId": "71ae9191-d15e-4b44-a65a-48ab8bacadd1"
      },
      "execution_count": null,
      "outputs": [
        {
          "output_type": "stream",
          "name": "stdout",
          "text": [
            "+---------+-----------+-----------+----+--------+--------+\n",
            "|studentID|studentname|collegename|dept|subject1|subject2|\n",
            "+---------+-----------+-----------+----+--------+--------+\n",
            "| 21ALR010|      kalki|        KEC|  IT|      90|      60|\n",
            "+---------+-----------+-----------+----+--------+--------+\n",
            "\n"
          ]
        }
      ]
    },
    {
      "cell_type": "code",
      "source": [
        "df.filter(df.dept.contains(\"T\")).show()"
      ],
      "metadata": {
        "colab": {
          "base_uri": "https://localhost:8080/"
        },
        "id": "kLZwWt0XZO5L",
        "outputId": "d5c77ac9-c40e-4f5e-8105-ba593216076d"
      },
      "execution_count": null,
      "outputs": [
        {
          "output_type": "stream",
          "name": "stdout",
          "text": [
            "+---------+-----------+-----------+----+--------+--------+\n",
            "|studentID|studentname|collegename|dept|subject1|subject2|\n",
            "+---------+-----------+-----------+----+--------+--------+\n",
            "| 21ALR010|      kalki|        KEC|  IT|      90|      60|\n",
            "+---------+-----------+-----------+----+--------+--------+\n",
            "\n"
          ]
        }
      ]
    },
    {
      "cell_type": "code",
      "source": [
        "df.filter(df.studentID.like(\"%004\")).show()"
      ],
      "metadata": {
        "colab": {
          "base_uri": "https://localhost:8080/"
        },
        "id": "UHtjnVBvcyIh",
        "outputId": "0ed4662d-8551-4e96-a1a6-bf638557e052"
      },
      "execution_count": null,
      "outputs": [
        {
          "output_type": "stream",
          "name": "stdout",
          "text": [
            "+---------+-----------+-----------+----+--------+--------+\n",
            "|studentID|studentname|collegename|dept|subject1|subject2|\n",
            "+---------+-----------+-----------+----+--------+--------+\n",
            "| 21ALR004|     arvind|        KEC|  AI|      13|      65|\n",
            "+---------+-----------+-----------+----+--------+--------+\n",
            "\n"
          ]
        }
      ]
    },
    {
      "cell_type": "code",
      "source": [
        "df.sort(\"dept\").show()"
      ],
      "metadata": {
        "colab": {
          "base_uri": "https://localhost:8080/"
        },
        "id": "2MeO_zxydDhJ",
        "outputId": "c3c979d6-a11a-4658-aa0a-262aa5cd8fc1"
      },
      "execution_count": null,
      "outputs": [
        {
          "output_type": "stream",
          "name": "stdout",
          "text": [
            "+---------+-----------------+-----------+----+--------+--------+\n",
            "|studentID|      studentname|collegename|dept|subject1|subject2|\n",
            "+---------+-----------------+-----------+----+--------+--------+\n",
            "| 21ALR006|          dhanush|        KEC|  AI|     100|     100|\n",
            "| 21ALR001|           akilan|        KEC|  AI|      77|      98|\n",
            "| 21ALR008|          gowtham|        KEC|  AI|      69|      96|\n",
            "| 21ALR002|             arun|        KEC|  AI|      78|      87|\n",
            "| 21ALR009|           hardik|        KEC|  AI|      86|      88|\n",
            "| 21ALR003|arunesh mahadevan|        KEC|  AI|      48|      69|\n",
            "| 21ALR004|           arvind|        KEC|  AI|      13|      65|\n",
            "| 21ALR007|           divish|        KEC| CSE|      87|      69|\n",
            "| 21ALR005|            ashok|        KEC| CSE|      76|      82|\n",
            "| 21ALR010|            kalki|        KEC|  IT|      90|      60|\n",
            "+---------+-----------------+-----------+----+--------+--------+\n",
            "\n"
          ]
        }
      ]
    },
    {
      "cell_type": "code",
      "source": [
        "df.orderBy(\"dept\").show()"
      ],
      "metadata": {
        "colab": {
          "base_uri": "https://localhost:8080/"
        },
        "id": "Wm1jqQi8eL9N",
        "outputId": "2d5206e3-b996-44ff-e676-ab245c5cd1c8"
      },
      "execution_count": null,
      "outputs": [
        {
          "output_type": "stream",
          "name": "stdout",
          "text": [
            "+---------+-----------------+-----------+----+--------+--------+\n",
            "|studentID|      studentname|collegename|dept|subject1|subject2|\n",
            "+---------+-----------------+-----------+----+--------+--------+\n",
            "| 21ALR001|           akilan|        KEC|  AI|      77|      98|\n",
            "| 21ALR006|          dhanush|        KEC|  AI|     100|     100|\n",
            "| 21ALR002|             arun|        KEC|  AI|      78|      87|\n",
            "| 21ALR008|          gowtham|        KEC|  AI|      69|      96|\n",
            "| 21ALR003|arunesh mahadevan|        KEC|  AI|      48|      69|\n",
            "| 21ALR009|           hardik|        KEC|  AI|      86|      88|\n",
            "| 21ALR004|           arvind|        KEC|  AI|      13|      65|\n",
            "| 21ALR007|           divish|        KEC| CSE|      87|      69|\n",
            "| 21ALR005|            ashok|        KEC| CSE|      76|      82|\n",
            "| 21ALR010|            kalki|        KEC|  IT|      90|      60|\n",
            "+---------+-----------------+-----------+----+--------+--------+\n",
            "\n"
          ]
        }
      ]
    },
    {
      "cell_type": "code",
      "source": [
        "df.sort(df.studentname.asc(),df.dept.desc()).show()"
      ],
      "metadata": {
        "colab": {
          "base_uri": "https://localhost:8080/"
        },
        "id": "dOxJj9_Xeks6",
        "outputId": "a38a3847-1faa-4d54-afc3-f5fdd8f9986b"
      },
      "execution_count": null,
      "outputs": [
        {
          "output_type": "stream",
          "name": "stdout",
          "text": [
            "+---------+-----------------+-----------+----+--------+--------+\n",
            "|studentID|      studentname|collegename|dept|subject1|subject2|\n",
            "+---------+-----------------+-----------+----+--------+--------+\n",
            "| 21ALR001|           akilan|        KEC|  AI|      77|      98|\n",
            "| 21ALR002|             arun|        KEC|  AI|      78|      87|\n",
            "| 21ALR003|arunesh mahadevan|        KEC|  AI|      48|      69|\n",
            "| 21ALR004|           arvind|        KEC|  AI|      13|      65|\n",
            "| 21ALR005|            ashok|        KEC| CSE|      76|      82|\n",
            "| 21ALR006|          dhanush|        KEC|  AI|     100|     100|\n",
            "| 21ALR007|           divish|        KEC| CSE|      87|      69|\n",
            "| 21ALR008|          gowtham|        KEC|  AI|      69|      96|\n",
            "| 21ALR009|           hardik|        KEC|  AI|      86|      88|\n",
            "| 21ALR010|            kalki|        KEC|  IT|      90|      60|\n",
            "+---------+-----------------+-----------+----+--------+--------+\n",
            "\n"
          ]
        }
      ]
    },
    {
      "cell_type": "code",
      "source": [
        "df.groupBy(\"dept\").count().show()"
      ],
      "metadata": {
        "colab": {
          "base_uri": "https://localhost:8080/"
        },
        "id": "a3s8aWBvfAE6",
        "outputId": "9168b0cf-8c53-448a-c5e7-fa17092e56f7"
      },
      "execution_count": null,
      "outputs": [
        {
          "output_type": "stream",
          "name": "stdout",
          "text": [
            "+----+-----+\n",
            "|dept|count|\n",
            "+----+-----+\n",
            "|  AI|    7|\n",
            "| CSE|    2|\n",
            "|  IT|    1|\n",
            "+----+-----+\n",
            "\n"
          ]
        }
      ]
    },
    {
      "cell_type": "code",
      "source": [
        "df.groupBy(\"dept\").min(\"subject1\").show()"
      ],
      "metadata": {
        "colab": {
          "base_uri": "https://localhost:8080/"
        },
        "id": "Gx9_CKnKfRiI",
        "outputId": "79bcbf73-c1cb-4671-83aa-55a9cea3b189"
      },
      "execution_count": null,
      "outputs": [
        {
          "output_type": "stream",
          "name": "stdout",
          "text": [
            "+----+-------------+\n",
            "|dept|min(subject1)|\n",
            "+----+-------------+\n",
            "|  AI|           13|\n",
            "| CSE|           76|\n",
            "|  IT|           90|\n",
            "+----+-------------+\n",
            "\n"
          ]
        }
      ]
    },
    {
      "cell_type": "code",
      "source": [
        "df.groupBy(\"dept\").avg(\"subject1\").show()"
      ],
      "metadata": {
        "colab": {
          "base_uri": "https://localhost:8080/"
        },
        "id": "O87W39cjfgCJ",
        "outputId": "535d625c-2188-4ffa-b8fc-0e508f8becd0"
      },
      "execution_count": null,
      "outputs": [
        {
          "output_type": "stream",
          "name": "stdout",
          "text": [
            "+----+-----------------+\n",
            "|dept|    avg(subject1)|\n",
            "+----+-----------------+\n",
            "|  AI|67.28571428571429|\n",
            "| CSE|             81.5|\n",
            "|  IT|             90.0|\n",
            "+----+-----------------+\n",
            "\n"
          ]
        }
      ]
    },
    {
      "cell_type": "code",
      "source": [
        "df.groupBy(\"dept\").mean(\"subject1\").show()"
      ],
      "metadata": {
        "colab": {
          "base_uri": "https://localhost:8080/"
        },
        "id": "K4XW827lgRbJ",
        "outputId": "8e1598b6-5658-4c71-a174-e73551a76f90"
      },
      "execution_count": null,
      "outputs": [
        {
          "output_type": "stream",
          "name": "stdout",
          "text": [
            "+----+-----------------+\n",
            "|dept|    avg(subject1)|\n",
            "+----+-----------------+\n",
            "|  AI|67.28571428571429|\n",
            "| CSE|             81.5|\n",
            "|  IT|             90.0|\n",
            "+----+-----------------+\n",
            "\n"
          ]
        }
      ]
    },
    {
      "cell_type": "code",
      "source": [
        "from pyspark.sql.functions import sum,avg,max\n",
        "df.groupBy(\"dept\").agg(\\\n",
        "                       sum(\"subject1\").alias(\"sum_subject1\"),\\\n",
        "                       avg(\"subject1\")).alias(\"avg_subject1\").show()"
      ],
      "metadata": {
        "colab": {
          "base_uri": "https://localhost:8080/"
        },
        "id": "sH98njkcgVyJ",
        "outputId": "1ee27db1-5344-4e12-99e0-b8050c48395e"
      },
      "execution_count": null,
      "outputs": [
        {
          "output_type": "stream",
          "name": "stdout",
          "text": [
            "+----+------------+-----------------+\n",
            "|dept|sum_subject1|    avg(subject1)|\n",
            "+----+------------+-----------------+\n",
            "|  AI|         471|67.28571428571429|\n",
            "| CSE|         163|             81.5|\n",
            "|  IT|          90|             90.0|\n",
            "+----+------------+-----------------+\n",
            "\n"
          ]
        }
      ]
    },
    {
      "cell_type": "code",
      "source": [
        "df.select(sum(\"subject2\")).show()"
      ],
      "metadata": {
        "colab": {
          "base_uri": "https://localhost:8080/"
        },
        "id": "CAItUOZ4isNE",
        "outputId": "094ec2cf-7409-4789-976b-a11f527451cf"
      },
      "execution_count": null,
      "outputs": [
        {
          "output_type": "stream",
          "name": "stdout",
          "text": [
            "+-------------+\n",
            "|sum(subject2)|\n",
            "+-------------+\n",
            "|          814|\n",
            "+-------------+\n",
            "\n"
          ]
        }
      ]
    },
    {
      "cell_type": "code",
      "source": [
        "df.agg({'subject1':'max','subject2':'min'}).show()"
      ],
      "metadata": {
        "colab": {
          "base_uri": "https://localhost:8080/"
        },
        "id": "MM2BL1WOiAP5",
        "outputId": "df103501-54fa-4c2b-e21e-c9ef2cdf3ff4"
      },
      "execution_count": null,
      "outputs": [
        {
          "output_type": "stream",
          "name": "stdout",
          "text": [
            "+-------------+-------------+\n",
            "|max(subject1)|min(subject2)|\n",
            "+-------------+-------------+\n",
            "|          100|           60|\n",
            "+-------------+-------------+\n",
            "\n"
          ]
        }
      ]
    },
    {
      "cell_type": "code",
      "source": [],
      "metadata": {
        "id": "pTaZ-AjbiObp"
      },
      "execution_count": null,
      "outputs": []
    }
  ]
}