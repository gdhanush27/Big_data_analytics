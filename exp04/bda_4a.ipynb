{
  "nbformat": 4,
  "nbformat_minor": 0,
  "metadata": {
    "colab": {
      "provenance": []
    },
    "kernelspec": {
      "name": "python3",
      "display_name": "Python 3"
    },
    "language_info": {
      "name": "python"
    }
  },
  "cells": [
    {
      "cell_type": "code",
      "execution_count": null,
      "metadata": {
        "colab": {
          "base_uri": "https://localhost:8080/"
        },
        "id": "v2rf2x0ZBM2n",
        "outputId": "159104f5-d4d3-4f09-8786-ddc324ded85e"
      },
      "outputs": [
        {
          "output_type": "stream",
          "name": "stdout",
          "text": [
            "\u001b[2K     \u001b[90m━━━━━━━━━━━━━━━━━━━━━━━━━━━━━━━━━━━━━━━\u001b[0m \u001b[32m310.8/310.8 MB\u001b[0m \u001b[31m3.4 MB/s\u001b[0m eta \u001b[36m0:00:00\u001b[0m\n",
            "\u001b[?25h  Preparing metadata (setup.py) ... \u001b[?25l\u001b[?25hdone\n",
            "  Building wheel for pyspark (setup.py) ... \u001b[?25l\u001b[?25hdone\n"
          ]
        }
      ],
      "source": [
        "!pip install -q pyspark"
      ]
    },
    {
      "cell_type": "code",
      "source": [
        "from pyspark.sql import SparkSession\n",
        "spark = SparkSession.builder.appName('SparkByExamples.com').getOrCreate()"
      ],
      "metadata": {
        "id": "10Iirl0jFeKc"
      },
      "execution_count": null,
      "outputs": []
    },
    {
      "cell_type": "code",
      "source": [
        "df=spark.read.csv(\"/content/IPL Player Stats - 2016 till 2019 - IPL Player Stats - 2016 till 2019.csv\",header=True)\n",
        "df.show(n=5)"
      ],
      "metadata": {
        "colab": {
          "base_uri": "https://localhost:8080/"
        },
        "id": "oePTR7tQFtpD",
        "outputId": "19a748d4-3ded-45d3-be14-df7c51228ae1"
      },
      "execution_count": null,
      "outputs": [
        {
          "output_type": "stream",
          "name": "stdout",
          "text": [
            "+----------------+---------+----------+-------+---------------+-------+------------+-------------+---------------+-----------+-------------------+---+---+---+---+---+---------------+------------+--------------+-------------+-------------+--------------------+---------------+--------------------+-------------------+------------------+------------------+-------------+--------------+\n",
            "|            Team|   Player|Tournament|Matches|Batting Innings|Not Out|Runds Scored|Highest Score|Batting Average|Balls Faced|Batting Strike Rate|100| 50|  0| 4s| 6s|Bowling Innings|Overs Bowled|Maidens Bowled|Runs Conceded|Wickets Taken|Best Bowling Figures|Bowling Average|Bowling Economy Rate|Bowling Strike Rate|4+ Innings Wickets|5+ Innings Wickets|Catches Taken|Stumpings Made|\n",
            "+----------------+---------+----------+-------+---------------+-------+------------+-------------+---------------+-----------+-------------------+---+---+---+---+---+---------------+------------+--------------+-------------+-------------+--------------------+---------------+--------------------+-------------------+------------------+------------------+-------------+--------------+\n",
            "|Delhi Daredevils|CH Morris|  IPL 2016|     12|              7|      4|         195|          82*|             65|        109|             178.89|  0|  1|  1| 15| 12|             12|          44|             0|          308|           13|                2/30|          23.69|                   7|               20.3|                 0|                 0|            8|             0|\n",
            "|Delhi Daredevils|CH Morris|  IPL 2017|      9|              9|      4|         154|          52*|           30.8|         94|             163.82|  0|  1|  0| 15|  6|              9|          31|             0|          240|           12|                4/26|             20|                7.74|               15.5|                 1|                 0|            5|             0|\n",
            "|Delhi Daredevils|CH Morris|  IPL 2018|      4|              4|      3|          46|          27*|             46|         26|             176.92|  0|  0|  0|  3|  2|              4|          14|             0|          143|            3|                2/41|          47.66|               10.21|                 28|                 0|                 0|            2|             0|\n",
            "|Delhi Daredevils|JP Duminy|  IPL 2016|     10|              8|      3|         191|          49*|           38.2|        156|             122.43|  0|  0|  0| 13|  3|              5|           7|             0|           55|            2|                 1/4|           27.5|                7.85|                 21|                 0|                 0|            3|             0|\n",
            "|Delhi Daredevils|Q de Kock|  IPL 2016|     13|             13|      1|         445|          108|          37.08|        327|             136.08|  1|  3|  0| 52| 13|              -|           -|             -|            -|            -|                   -|              -|                   -|                  -|                 -|                 -|            2|             2|\n",
            "+----------------+---------+----------+-------+---------------+-------+------------+-------------+---------------+-----------+-------------------+---+---+---+---+---+---------------+------------+--------------+-------------+-------------+--------------------+---------------+--------------------+-------------------+------------------+------------------+-------------+--------------+\n",
            "only showing top 5 rows\n",
            "\n"
          ]
        }
      ]
    },
    {
      "cell_type": "code",
      "source": [
        "df.select(df['Team'], df['Runds Scored']).show(n=5)"
      ],
      "metadata": {
        "colab": {
          "base_uri": "https://localhost:8080/"
        },
        "id": "jtkyb9cHGocj",
        "outputId": "523f2547-373c-41b1-feb6-df271486f9e2"
      },
      "execution_count": null,
      "outputs": [
        {
          "output_type": "stream",
          "name": "stdout",
          "text": [
            "+----------------+------------+\n",
            "|            Team|Runds Scored|\n",
            "+----------------+------------+\n",
            "|Delhi Daredevils|         195|\n",
            "|Delhi Daredevils|         154|\n",
            "|Delhi Daredevils|          46|\n",
            "|Delhi Daredevils|         191|\n",
            "|Delhi Daredevils|         445|\n",
            "+----------------+------------+\n",
            "only showing top 5 rows\n",
            "\n"
          ]
        }
      ]
    },
    {
      "cell_type": "code",
      "source": [
        "dfs = spark.read.csv('/content/sample_csv_file - sample_csv_file.csv')\n",
        "dfs.show()"
      ],
      "metadata": {
        "colab": {
          "base_uri": "https://localhost:8080/"
        },
        "id": "mnvcurpGHCZS",
        "outputId": "adeef46f-48d3-4669-dd74-59f7fc6c6082"
      },
      "execution_count": null,
      "outputs": [
        {
          "output_type": "stream",
          "name": "stdout",
          "text": [
            "+-------+-----+-------+---------+\n",
            "|    _c0|  _c1|    _c2|      _c3|\n",
            "+-------+-----+-------+---------+\n",
            "|   Name|Maths|Physics|Chemistry|\n",
            "| Aditya|   45|     89|        1|\n",
            "|  Chris|   86|     85|        2|\n",
            "|   Joel| null|     85|        3|\n",
            "|Katrina|   49|     47|        4|\n",
            "| Agatha|   76|     89|        5|\n",
            "|    Sam|   76|     98|        6|\n",
            "+-------+-----+-------+---------+\n",
            "\n"
          ]
        }
      ]
    },
    {
      "cell_type": "code",
      "source": [
        "dfs = spark.read.csv('/content/sample_csv_file - sample_csv_file.csv',header=True)\n",
        "dfs.show()\n",
        "dfs.dtypes"
      ],
      "metadata": {
        "colab": {
          "base_uri": "https://localhost:8080/"
        },
        "id": "chTwYJXRONUR",
        "outputId": "7e72b1f5-1c4e-446a-ad12-32b61c39bbbf"
      },
      "execution_count": null,
      "outputs": [
        {
          "output_type": "stream",
          "name": "stdout",
          "text": [
            "+-------+-----+-------+---------+\n",
            "|   Name|Maths|Physics|Chemistry|\n",
            "+-------+-----+-------+---------+\n",
            "| Aditya|   45|     89|        1|\n",
            "|  Chris|   86|     85|        2|\n",
            "|   Joel| null|     85|        3|\n",
            "|Katrina|   49|     47|        4|\n",
            "| Agatha|   76|     89|        5|\n",
            "|    Sam|   76|     98|        6|\n",
            "+-------+-----+-------+---------+\n",
            "\n"
          ]
        },
        {
          "output_type": "execute_result",
          "data": {
            "text/plain": [
              "[('Name', 'string'),\n",
              " ('Maths', 'string'),\n",
              " ('Physics', 'string'),\n",
              " ('Chemistry', 'string')]"
            ]
          },
          "metadata": {},
          "execution_count": 16
        }
      ]
    },
    {
      "cell_type": "code",
      "source": [
        "dfs = spark.read.csv('/content/sample_csv_file - sample_csv_file.csv',header=True,inferSchema=True)\n",
        "dfs.show()\n",
        "dfs.dtypes"
      ],
      "metadata": {
        "colab": {
          "base_uri": "https://localhost:8080/"
        },
        "id": "cs3i93SmOu-Q",
        "outputId": "e9cbd426-6861-4faf-9d67-fe751fb8f815"
      },
      "execution_count": null,
      "outputs": [
        {
          "output_type": "stream",
          "name": "stdout",
          "text": [
            "+-------+-----+-------+---------+\n",
            "|   Name|Maths|Physics|Chemistry|\n",
            "+-------+-----+-------+---------+\n",
            "| Aditya|   45|     89|        1|\n",
            "|  Chris|   86|     85|        2|\n",
            "|   Joel| null|     85|        3|\n",
            "|Katrina|   49|     47|        4|\n",
            "| Agatha|   76|     89|        5|\n",
            "|    Sam|   76|     98|        6|\n",
            "+-------+-----+-------+---------+\n",
            "\n"
          ]
        },
        {
          "output_type": "execute_result",
          "data": {
            "text/plain": [
              "[('Name', 'string'),\n",
              " ('Maths', 'int'),\n",
              " ('Physics', 'int'),\n",
              " ('Chemistry', 'int')]"
            ]
          },
          "metadata": {},
          "execution_count": 17
        }
      ]
    },
    {
      "cell_type": "code",
      "source": [
        "from pyspark.sql.types import StructType,StructField,IntegerType,StringType\n",
        "list_of_cols = [StructField(\"Name\",StringType(),True),\n",
        "                StructField(\"Maths\",IntegerType(),True),\n",
        "                StructField(\"Physics\",IntegerType(),True),\n",
        "                StructField(\"Chemistry\",IntegerType(),True)]\n",
        "schema = StructType(list_of_cols)\n",
        "dfs = spark.read.csv('/content/sample_csv_file - sample_csv_file.csv',header=True,schema=schema)\n",
        "dfs.show()\n",
        "print(dfs.dtypes)"
      ],
      "metadata": {
        "colab": {
          "base_uri": "https://localhost:8080/"
        },
        "id": "JeojEduxO0lw",
        "outputId": "4091b6a8-5bbd-43b7-8595-eac2f603da8d"
      },
      "execution_count": null,
      "outputs": [
        {
          "output_type": "stream",
          "name": "stdout",
          "text": [
            "+-------+-----+-------+---------+\n",
            "|   Name|Maths|Physics|Chemistry|\n",
            "+-------+-----+-------+---------+\n",
            "| Aditya|   45|     89|        1|\n",
            "|  Chris|   86|     85|        2|\n",
            "|   Joel| null|     85|        3|\n",
            "|Katrina|   49|     47|        4|\n",
            "| Agatha|   76|     89|        5|\n",
            "|    Sam|   76|     98|        6|\n",
            "+-------+-----+-------+---------+\n",
            "\n",
            "[('Name', 'string'), ('Maths', 'int'), ('Physics', 'int'), ('Chemistry', 'int')]\n"
          ]
        }
      ]
    },
    {
      "cell_type": "code",
      "source": [
        "dfs=spark.read.csv(\"/content/demo_file - demo_file.csv\",sep=\"|\",header=True, inferSchema=True)\n",
        "dfs.show()\n",
        "print(dfs.dtypes)"
      ],
      "metadata": {
        "colab": {
          "base_uri": "https://localhost:8080/"
        },
        "id": "2Khozf3qPZKw",
        "outputId": "7fc363dd-cc7b-4b00-84bd-1aeb59d60247"
      },
      "execution_count": null,
      "outputs": [
        {
          "output_type": "stream",
          "name": "stdout",
          "text": [
            "+------+----+--------+-----+\n",
            "|  Name|Roll|Language|Extra|\n",
            "+------+----+--------+-----+\n",
            "|Aditya|   1|  Python|   11|\n",
            "|   Sam|   2|    Java|   12|\n",
            "| Chris|   3|  Python|   13|\n",
            "|   Joe|   8|    Java|   14|\n",
            "+------+----+--------+-----+\n",
            "\n",
            "[('Name', 'string'), ('Roll', 'int'), ('Language', 'string'), ('Extra', 'int')]\n"
          ]
        }
      ]
    },
    {
      "cell_type": "code",
      "source": [
        "df5=spark.read.csv([\"/content/demo_file - demo_file.csv\",\"/content/demo_file - demo_file_2.csv\"],sep=\"|\",header=True)\n",
        "df5.show()"
      ],
      "metadata": {
        "colab": {
          "base_uri": "https://localhost:8080/"
        },
        "id": "Fw5nmubPThnf",
        "outputId": "4eec52bf-624f-4007-a843-eb96f7280520"
      },
      "execution_count": null,
      "outputs": [
        {
          "output_type": "stream",
          "name": "stdout",
          "text": [
            "+------+----+--------+-----+\n",
            "|  Name|Roll|Language|Extra|\n",
            "+------+----+--------+-----+\n",
            "|Aditya|   1|  Python|   11|\n",
            "|   Sam|   2|    Java|   12|\n",
            "| Chris|   3|  Python|   13|\n",
            "|   Joe|   8|    Java|   14|\n",
            "|Aditya|   1|  Python|   11|\n",
            "|   Sam|   2|    Java|   12|\n",
            "| Chris|   3|  Python|   13|\n",
            "|   Joe|   8|    Java|   14|\n",
            "+------+----+--------+-----+\n",
            "\n"
          ]
        }
      ]
    },
    {
      "cell_type": "code",
      "source": [
        "dfs=spark.read.csv([\"/content/student_data1 - student_data1.csv\",\"/content/student_data2 - student_data2.csv\"],header=True,inferSchema=True, sep=\"|\")\n",
        "dfs.show()"
      ],
      "metadata": {
        "colab": {
          "base_uri": "https://localhost:8080/"
        },
        "id": "ccbfxKkiUV13",
        "outputId": "a3844a4b-4dd7-4be3-b4da-59a78ae20d24"
      },
      "execution_count": null,
      "outputs": [
        {
          "output_type": "stream",
          "name": "stdout",
          "text": [
            "+------+----+----------+-----+-----+\n",
            "|  Name|Roll|  Language|Extra|Grade|\n",
            "+------+----+----------+-----+-----+\n",
            "|Aditya|   1|    Python|   11|    A|\n",
            "|   Sam|   2|      Java|   12|    A|\n",
            "| Chris|   3|       C++|   13|   A+|\n",
            "|  Joel|   4|TypeScript|   14|   A+|\n",
            "|Aditya|   1|    Python| null| null|\n",
            "|   Sam|   2|      Java| null| null|\n",
            "| Chris|   3|       C++| null| null|\n",
            "|  Joel|   4|TypeScript| null| null|\n",
            "+------+----+----------+-----+-----+\n",
            "\n"
          ]
        }
      ]
    },
    {
      "cell_type": "code",
      "source": [
        "dfs.filter(\"Language != 'C#'\").show()"
      ],
      "metadata": {
        "colab": {
          "base_uri": "https://localhost:8080/"
        },
        "id": "msswu__EVqru",
        "outputId": "8ba542d2-cf2c-43e6-9df7-f2bf15455c9c"
      },
      "execution_count": null,
      "outputs": [
        {
          "output_type": "stream",
          "name": "stdout",
          "text": [
            "+------+----+----------+-----+-----+\n",
            "|  Name|Roll|  Language|Extra|Grade|\n",
            "+------+----+----------+-----+-----+\n",
            "|Aditya|   1|    Python|   11|    A|\n",
            "|   Sam|   2|      Java|   12|    A|\n",
            "| Chris|   3|       C++|   13|   A+|\n",
            "|  Joel|   4|TypeScript|   14|   A+|\n",
            "|Aditya|   1|    Python| null| null|\n",
            "|   Sam|   2|      Java| null| null|\n",
            "| Chris|   3|       C++| null| null|\n",
            "|  Joel|   4|TypeScript| null| null|\n",
            "+------+----+----------+-----+-----+\n",
            "\n"
          ]
        }
      ]
    },
    {
      "cell_type": "code",
      "source": [
        "\n",
        "dfs1=dfs.groupBy(\"Language\").min(\"Extra\")\n",
        "dfs1.show()"
      ],
      "metadata": {
        "id": "xVJQVIUyhVyr",
        "outputId": "c68fe47f-f56b-430c-f992-04de4e7307dc",
        "colab": {
          "base_uri": "https://localhost:8080/"
        }
      },
      "execution_count": null,
      "outputs": [
        {
          "output_type": "stream",
          "name": "stdout",
          "text": [
            "+----------+----------+\n",
            "|  Language|min(Extra)|\n",
            "+----------+----------+\n",
            "|       C++|        13|\n",
            "|TypeScript|        14|\n",
            "|    Python|        11|\n",
            "|      Java|        12|\n",
            "+----------+----------+\n",
            "\n"
          ]
        }
      ]
    }
  ]
}