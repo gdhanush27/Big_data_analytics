{
  "nbformat": 4,
  "nbformat_minor": 0,
  "metadata": {
    "colab": {
      "provenance": []
    },
    "kernelspec": {
      "name": "python3",
      "display_name": "Python 3"
    },
    "language_info": {
      "name": "python"
    }
  },
  "cells": [
    {
      "cell_type": "code",
      "execution_count": null,
      "metadata": {
        "colab": {
          "base_uri": "https://localhost:8080/"
        },
        "id": "8Ufxb5XRJKJs",
        "outputId": "d01a8855-876d-4e9f-a3b6-a8d69f0bca49"
      },
      "outputs": [
        {
          "output_type": "stream",
          "name": "stdout",
          "text": [
            "\u001b[2K     \u001b[90m━━━━━━━━━━━━━━━━━━━━━━━━━━━━━━━━━━━━━━━\u001b[0m \u001b[32m310.8/310.8 MB\u001b[0m \u001b[31m4.5 MB/s\u001b[0m eta \u001b[36m0:00:00\u001b[0m\n",
            "\u001b[?25h  Preparing metadata (setup.py) ... \u001b[?25l\u001b[?25hdone\n",
            "  Building wheel for pyspark (setup.py) ... \u001b[?25l\u001b[?25hdone\n"
          ]
        }
      ],
      "source": [
        "!pip install -qq pyspark"
      ]
    },
    {
      "cell_type": "code",
      "source": [
        "import pyspark\n",
        "from pyspark.sql import SparkSession\n"
      ],
      "metadata": {
        "id": "40uH3UcEMb4u"
      },
      "execution_count": null,
      "outputs": []
    },
    {
      "cell_type": "code",
      "source": [
        "spark=SparkSession.builder.appName('sparkdf').getOrCreate()"
      ],
      "metadata": {
        "id": "ImvGlyauM30X"
      },
      "execution_count": null,
      "outputs": []
    },
    {
      "cell_type": "code",
      "source": [
        "data=[\n",
        "    [\"21ALR001\", \"akilan\", \"KEC\", \"AI\",77, 98],\n",
        "    [\"21ALR002\", \"arun\", \"KEC\",\"AI\", 78, 87],\n",
        "    [\"21ALR003\", \"arunesh\", \"IIT\", \"AI\", 48, 69],\n",
        "    [\"21ALR004\", \"arvind\", \"KEC\", \"AI\",13, 65],\n",
        "    [\"21ALR005\", \"ashok\", \"KEC\", \"CSE\", 76, 82],\n",
        "    [\"21ALR006\", \"dhanush\", \"IIT\", \"AI\", 100, 100],\n",
        "    [\"21ALR007\", \"divish\", \"IIT\", \"CSE\",87, 69],\n",
        "    [\"21ALR008\", \"gowtham\", \"IIT\",\"AI\", 69, 96],\n",
        "    [\"21ALR009\", \"hardik\", \"KEC\",\"AI\", 86, 88],\n",
        "    [\"21ALR010\", \"kalki\", \"IIT\", \"IT\", 90, 60],\n",
        "    ]"
      ],
      "metadata": {
        "id": "eE_8xSt5RclH"
      },
      "execution_count": null,
      "outputs": []
    },
    {
      "cell_type": "code",
      "source": [
        "columns=['studentID', 'studentname', 'collegename','dept','subject1', 'subject2']"
      ],
      "metadata": {
        "id": "6Ho1W8GJS4H9"
      },
      "execution_count": null,
      "outputs": []
    },
    {
      "cell_type": "code",
      "source": [
        "df=spark.createDataFrame(data,columns)\n",
        "df.show()"
      ],
      "metadata": {
        "colab": {
          "base_uri": "https://localhost:8080/"
        },
        "id": "3hpdJsvTTREb",
        "outputId": "f3e7a09e-7e1a-4237-9ca2-f23d88768b9b"
      },
      "execution_count": null,
      "outputs": [
        {
          "output_type": "stream",
          "name": "stdout",
          "text": [
            "+---------+-----------+-----------+----+--------+--------+\n",
            "|studentID|studentname|collegename|dept|subject1|subject2|\n",
            "+---------+-----------+-----------+----+--------+--------+\n",
            "| 21ALR001|     akilan|        KEC|  AI|      77|      98|\n",
            "| 21ALR002|       arun|        KEC|  AI|      78|      87|\n",
            "| 21ALR003|    arunesh|        IIT|  AI|      48|      69|\n",
            "| 21ALR004|     arvind|        KEC|  AI|      13|      65|\n",
            "| 21ALR005|      ashok|        KEC| CSE|      76|      82|\n",
            "| 21ALR006|    dhanush|        IIT|  AI|     100|     100|\n",
            "| 21ALR007|     divish|        IIT| CSE|      87|      69|\n",
            "| 21ALR008|    gowtham|        IIT|  AI|      69|      96|\n",
            "| 21ALR009|     hardik|        KEC|  AI|      86|      88|\n",
            "| 21ALR010|      kalki|        IIT|  IT|      90|      60|\n",
            "+---------+-----------+-----------+----+--------+--------+\n",
            "\n"
          ]
        }
      ]
    },
    {
      "cell_type": "code",
      "source": [
        "df.printSchema()"
      ],
      "metadata": {
        "colab": {
          "base_uri": "https://localhost:8080/"
        },
        "id": "yNNtoFFeTl20",
        "outputId": "1413a83a-d4fa-4856-fbe0-1b643ff429a7"
      },
      "execution_count": null,
      "outputs": [
        {
          "output_type": "stream",
          "name": "stdout",
          "text": [
            "root\n",
            " |-- studentID: string (nullable = true)\n",
            " |-- studentname: string (nullable = true)\n",
            " |-- collegename: string (nullable = true)\n",
            " |-- dept: string (nullable = true)\n",
            " |-- subject1: long (nullable = true)\n",
            " |-- subject2: long (nullable = true)\n",
            "\n"
          ]
        }
      ]
    },
    {
      "cell_type": "code",
      "source": [
        "from os import truncate\n",
        "df.show(n=5,truncate=12)"
      ],
      "metadata": {
        "colab": {
          "base_uri": "https://localhost:8080/"
        },
        "id": "SmhDSRa7Twy3",
        "outputId": "3b65c032-8642-4520-86e4-4843c979a538"
      },
      "execution_count": null,
      "outputs": [
        {
          "output_type": "stream",
          "name": "stdout",
          "text": [
            "+---------+-----------+-----------+----+--------+--------+\n",
            "|studentID|studentname|collegename|dept|subject1|subject2|\n",
            "+---------+-----------+-----------+----+--------+--------+\n",
            "| 21ALR001|     akilan|        KEC|  AI|      77|      98|\n",
            "| 21ALR002|       arun|        KEC|  AI|      78|      87|\n",
            "| 21ALR003|    arunesh|        IIT|  AI|      48|      69|\n",
            "| 21ALR004|     arvind|        KEC|  AI|      13|      65|\n",
            "| 21ALR005|      ashok|        KEC| CSE|      76|      82|\n",
            "+---------+-----------+-----------+----+--------+--------+\n",
            "only showing top 5 rows\n",
            "\n"
          ]
        }
      ]
    },
    {
      "cell_type": "code",
      "source": [
        "df.select('*').show()"
      ],
      "metadata": {
        "colab": {
          "base_uri": "https://localhost:8080/"
        },
        "id": "8y2P6uONUGdT",
        "outputId": "bc147a7a-cc15-4b5c-f1ab-9ab9f08e60e9"
      },
      "execution_count": null,
      "outputs": [
        {
          "output_type": "stream",
          "name": "stdout",
          "text": [
            "+---------+-----------+-----------+----+--------+--------+\n",
            "|studentID|studentname|collegename|dept|subject1|subject2|\n",
            "+---------+-----------+-----------+----+--------+--------+\n",
            "| 21ALR001|     akilan|        KEC|  AI|      77|      98|\n",
            "| 21ALR002|       arun|        KEC|  AI|      78|      87|\n",
            "| 21ALR003|    arunesh|        IIT|  AI|      48|      69|\n",
            "| 21ALR004|     arvind|        KEC|  AI|      13|      65|\n",
            "| 21ALR005|      ashok|        KEC| CSE|      76|      82|\n",
            "| 21ALR006|    dhanush|        IIT|  AI|     100|     100|\n",
            "| 21ALR007|     divish|        IIT| CSE|      87|      69|\n",
            "| 21ALR008|    gowtham|        IIT|  AI|      69|      96|\n",
            "| 21ALR009|     hardik|        KEC|  AI|      86|      88|\n",
            "| 21ALR010|      kalki|        IIT|  IT|      90|      60|\n",
            "+---------+-----------+-----------+----+--------+--------+\n",
            "\n"
          ]
        }
      ]
    },
    {
      "cell_type": "code",
      "source": [
        "df.select(df.columns[1:3]).show()"
      ],
      "metadata": {
        "colab": {
          "base_uri": "https://localhost:8080/"
        },
        "id": "T77POCoIUsa-",
        "outputId": "cd657f30-572f-41e1-9052-a52f280a5eb6"
      },
      "execution_count": null,
      "outputs": [
        {
          "output_type": "stream",
          "name": "stdout",
          "text": [
            "+-----------+-----------+\n",
            "|studentname|collegename|\n",
            "+-----------+-----------+\n",
            "|     akilan|        KEC|\n",
            "|       arun|        KEC|\n",
            "|    arunesh|        IIT|\n",
            "|     arvind|        KEC|\n",
            "|      ashok|        KEC|\n",
            "|    dhanush|        IIT|\n",
            "|     divish|        IIT|\n",
            "|    gowtham|        IIT|\n",
            "|     hardik|        KEC|\n",
            "|      kalki|        IIT|\n",
            "+-----------+-----------+\n",
            "\n"
          ]
        }
      ]
    },
    {
      "cell_type": "code",
      "source": [
        "datacollect=df.collect()\n",
        "print(datacollect)"
      ],
      "metadata": {
        "colab": {
          "base_uri": "https://localhost:8080/"
        },
        "id": "l-crGuiXU2Gj",
        "outputId": "54533944-b3ce-4ac9-b745-328943458e6c"
      },
      "execution_count": null,
      "outputs": [
        {
          "output_type": "stream",
          "name": "stdout",
          "text": [
            "[Row(studentID='21ALR001', studentname='akilan', collegename='KEC', dept='AI', subject1=77, subject2=98), Row(studentID='21ALR002', studentname='arun', collegename='KEC', dept='AI', subject1=78, subject2=87), Row(studentID='21ALR003', studentname='arunesh', collegename='IIT', dept='AI', subject1=48, subject2=69), Row(studentID='21ALR004', studentname='arvind', collegename='KEC', dept='AI', subject1=13, subject2=65), Row(studentID='21ALR005', studentname='ashok', collegename='KEC', dept='CSE', subject1=76, subject2=82), Row(studentID='21ALR006', studentname='dhanush', collegename='IIT', dept='AI', subject1=100, subject2=100), Row(studentID='21ALR007', studentname='divish', collegename='IIT', dept='CSE', subject1=87, subject2=69), Row(studentID='21ALR008', studentname='gowtham', collegename='IIT', dept='AI', subject1=69, subject2=96), Row(studentID='21ALR009', studentname='hardik', collegename='KEC', dept='AI', subject1=86, subject2=88), Row(studentID='21ALR010', studentname='kalki', collegename='IIT', dept='IT', subject1=90, subject2=60)]\n"
          ]
        }
      ]
    },
    {
      "cell_type": "code",
      "source": [
        "df.filter(df.dept==\"CSE\").show()"
      ],
      "metadata": {
        "colab": {
          "base_uri": "https://localhost:8080/"
        },
        "id": "Cp4Gztl5VnP0",
        "outputId": "429f9b92-ceea-4d57-e65c-a17d6a1a86df"
      },
      "execution_count": null,
      "outputs": [
        {
          "output_type": "stream",
          "name": "stdout",
          "text": [
            "+---------+-----------+-----------+----+--------+--------+\n",
            "|studentID|studentname|collegename|dept|subject1|subject2|\n",
            "+---------+-----------+-----------+----+--------+--------+\n",
            "| 21ALR005|      ashok|        KEC| CSE|      76|      82|\n",
            "| 21ALR007|     divish|        IIT| CSE|      87|      69|\n",
            "+---------+-----------+-----------+----+--------+--------+\n",
            "\n"
          ]
        }
      ]
    },
    {
      "cell_type": "code",
      "source": [
        "df.filter(~(df.dept==\"AI\")).show(truncate=12)"
      ],
      "metadata": {
        "colab": {
          "base_uri": "https://localhost:8080/"
        },
        "id": "BcFLVXFIWD6b",
        "outputId": "2c667bba-7d62-4a7a-d269-26b12ad18ed8"
      },
      "execution_count": null,
      "outputs": [
        {
          "output_type": "stream",
          "name": "stdout",
          "text": [
            "+---------+-----------+-----------+----+--------+--------+\n",
            "|studentID|studentname|collegename|dept|subject1|subject2|\n",
            "+---------+-----------+-----------+----+--------+--------+\n",
            "| 21ALR005|      ashok|        KEC| CSE|      76|      82|\n",
            "| 21ALR007|     divish|        IIT| CSE|      87|      69|\n",
            "| 21ALR010|      kalki|        IIT|  IT|      90|      60|\n",
            "+---------+-----------+-----------+----+--------+--------+\n",
            "\n"
          ]
        }
      ]
    },
    {
      "cell_type": "code",
      "source": [
        "df.filter(\"dept <> 'AI'\").show()"
      ],
      "metadata": {
        "colab": {
          "base_uri": "https://localhost:8080/"
        },
        "id": "gB_OLOdkWTac",
        "outputId": "bfd81003-b093-4d2a-c071-b65fea55bf4e"
      },
      "execution_count": null,
      "outputs": [
        {
          "output_type": "stream",
          "name": "stdout",
          "text": [
            "+---------+-----------+-----------+----+--------+--------+\n",
            "|studentID|studentname|collegename|dept|subject1|subject2|\n",
            "+---------+-----------+-----------+----+--------+--------+\n",
            "| 21ALR005|      ashok|        KEC| CSE|      76|      82|\n",
            "| 21ALR007|     divish|        IIT| CSE|      87|      69|\n",
            "| 21ALR010|      kalki|        IIT|  IT|      90|      60|\n",
            "+---------+-----------+-----------+----+--------+--------+\n",
            "\n"
          ]
        }
      ]
    },
    {
      "cell_type": "code",
      "source": [
        "df.filter((df.dept==\"AI\") & (df.subject1 > 85)).show()\n"
      ],
      "metadata": {
        "colab": {
          "base_uri": "https://localhost:8080/"
        },
        "id": "6wTShNQuWuHz",
        "outputId": "519376aa-b146-4448-bbef-940dc3029a13"
      },
      "execution_count": null,
      "outputs": [
        {
          "output_type": "stream",
          "name": "stdout",
          "text": [
            "+---------+-----------+-----------+----+--------+--------+\n",
            "|studentID|studentname|collegename|dept|subject1|subject2|\n",
            "+---------+-----------+-----------+----+--------+--------+\n",
            "| 21ALR006|    dhanush|        IIT|  AI|     100|     100|\n",
            "| 21ALR009|     hardik|        KEC|  AI|      86|      88|\n",
            "+---------+-----------+-----------+----+--------+--------+\n",
            "\n"
          ]
        }
      ]
    },
    {
      "cell_type": "code",
      "source": [
        "df.filter((df.dept==\"IT\") | (df.studentID==\"21ALR002\")).show()"
      ],
      "metadata": {
        "colab": {
          "base_uri": "https://localhost:8080/"
        },
        "id": "a2AuNtJBXRCb",
        "outputId": "27f3868c-3602-48bd-cf0d-9af4cd80c7a0"
      },
      "execution_count": null,
      "outputs": [
        {
          "output_type": "stream",
          "name": "stdout",
          "text": [
            "+---------+-----------+-----------+----+--------+--------+\n",
            "|studentID|studentname|collegename|dept|subject1|subject2|\n",
            "+---------+-----------+-----------+----+--------+--------+\n",
            "| 21ALR002|       arun|        KEC|  AI|      78|      87|\n",
            "| 21ALR010|      kalki|        IIT|  IT|      90|      60|\n",
            "+---------+-----------+-----------+----+--------+--------+\n",
            "\n"
          ]
        }
      ]
    },
    {
      "cell_type": "code",
      "source": [
        "li=[\"CSE\",\"IT\"]\n",
        "df.filter(df.dept.isin(li)==True).show()"
      ],
      "metadata": {
        "colab": {
          "base_uri": "https://localhost:8080/"
        },
        "id": "LO4W0sCoYPlz",
        "outputId": "688ce8cc-ab0f-4665-b16e-7391777d5f0a"
      },
      "execution_count": null,
      "outputs": [
        {
          "output_type": "stream",
          "name": "stdout",
          "text": [
            "+---------+-----------+-----------+----+--------+--------+\n",
            "|studentID|studentname|collegename|dept|subject1|subject2|\n",
            "+---------+-----------+-----------+----+--------+--------+\n",
            "| 21ALR005|      ashok|        KEC| CSE|      76|      82|\n",
            "| 21ALR007|     divish|        IIT| CSE|      87|      69|\n",
            "| 21ALR010|      kalki|        IIT|  IT|      90|      60|\n",
            "+---------+-----------+-----------+----+--------+--------+\n",
            "\n"
          ]
        }
      ]
    },
    {
      "cell_type": "code",
      "source": [
        "df.filter(df.dept.startswith(\"C\")).show()"
      ],
      "metadata": {
        "colab": {
          "base_uri": "https://localhost:8080/"
        },
        "id": "h2zukJvUYzZi",
        "outputId": "4ce64552-b4b1-4212-d643-36a7a4ba7f40"
      },
      "execution_count": null,
      "outputs": [
        {
          "output_type": "stream",
          "name": "stdout",
          "text": [
            "+---------+-----------+-----------+----+--------+--------+\n",
            "|studentID|studentname|collegename|dept|subject1|subject2|\n",
            "+---------+-----------+-----------+----+--------+--------+\n",
            "| 21ALR005|      ashok|        KEC| CSE|      76|      82|\n",
            "| 21ALR007|     divish|        IIT| CSE|      87|      69|\n",
            "+---------+-----------+-----------+----+--------+--------+\n",
            "\n"
          ]
        }
      ]
    },
    {
      "cell_type": "code",
      "source": [
        "df.filter(df.studentID.endswith(\"10\")).show()"
      ],
      "metadata": {
        "colab": {
          "base_uri": "https://localhost:8080/"
        },
        "id": "RNxKuXfLZA68",
        "outputId": "1e064812-0863-4b88-85d2-d0696e4585dd"
      },
      "execution_count": null,
      "outputs": [
        {
          "output_type": "stream",
          "name": "stdout",
          "text": [
            "+---------+-----------+-----------+----+--------+--------+\n",
            "|studentID|studentname|collegename|dept|subject1|subject2|\n",
            "+---------+-----------+-----------+----+--------+--------+\n",
            "| 21ALR010|      kalki|        IIT|  IT|      90|      60|\n",
            "+---------+-----------+-----------+----+--------+--------+\n",
            "\n"
          ]
        }
      ]
    },
    {
      "cell_type": "code",
      "source": [
        "df.filter(df.dept.contains(\"T\")).show()"
      ],
      "metadata": {
        "colab": {
          "base_uri": "https://localhost:8080/"
        },
        "id": "kLZwWt0XZO5L",
        "outputId": "cd9e0acc-7c5a-43b9-81d7-ad52fa9750eb"
      },
      "execution_count": null,
      "outputs": [
        {
          "output_type": "stream",
          "name": "stdout",
          "text": [
            "+---------+-----------+-----------+----+--------+--------+\n",
            "|studentID|studentname|collegename|dept|subject1|subject2|\n",
            "+---------+-----------+-----------+----+--------+--------+\n",
            "| 21ALR010|      kalki|        IIT|  IT|      90|      60|\n",
            "+---------+-----------+-----------+----+--------+--------+\n",
            "\n"
          ]
        }
      ]
    },
    {
      "cell_type": "code",
      "source": [
        "df.filter(df.studentname.like(\"%arun%\")).show()"
      ],
      "metadata": {
        "colab": {
          "base_uri": "https://localhost:8080/"
        },
        "id": "UHtjnVBvcyIh",
        "outputId": "74d2ea6b-b319-4d44-ed5b-5e411b27e1db"
      },
      "execution_count": null,
      "outputs": [
        {
          "output_type": "stream",
          "name": "stdout",
          "text": [
            "+---------+-----------+-----------+----+--------+--------+\n",
            "|studentID|studentname|collegename|dept|subject1|subject2|\n",
            "+---------+-----------+-----------+----+--------+--------+\n",
            "| 21ALR002|       arun|        KEC|  AI|      78|      87|\n",
            "| 21ALR003|    arunesh|        IIT|  AI|      48|      69|\n",
            "+---------+-----------+-----------+----+--------+--------+\n",
            "\n"
          ]
        }
      ]
    },
    {
      "cell_type": "code",
      "source": [
        "df.sort(\"dept\").show()"
      ],
      "metadata": {
        "colab": {
          "base_uri": "https://localhost:8080/"
        },
        "id": "2MeO_zxydDhJ",
        "outputId": "5ceeb846-e6a6-4e1b-9243-73d91b7ec64a"
      },
      "execution_count": null,
      "outputs": [
        {
          "output_type": "stream",
          "name": "stdout",
          "text": [
            "+---------+-----------+-----------+----+--------+--------+\n",
            "|studentID|studentname|collegename|dept|subject1|subject2|\n",
            "+---------+-----------+-----------+----+--------+--------+\n",
            "| 21ALR006|    dhanush|        IIT|  AI|     100|     100|\n",
            "| 21ALR001|     akilan|        KEC|  AI|      77|      98|\n",
            "| 21ALR008|    gowtham|        IIT|  AI|      69|      96|\n",
            "| 21ALR002|       arun|        KEC|  AI|      78|      87|\n",
            "| 21ALR009|     hardik|        KEC|  AI|      86|      88|\n",
            "| 21ALR003|    arunesh|        IIT|  AI|      48|      69|\n",
            "| 21ALR004|     arvind|        KEC|  AI|      13|      65|\n",
            "| 21ALR007|     divish|        IIT| CSE|      87|      69|\n",
            "| 21ALR005|      ashok|        KEC| CSE|      76|      82|\n",
            "| 21ALR010|      kalki|        IIT|  IT|      90|      60|\n",
            "+---------+-----------+-----------+----+--------+--------+\n",
            "\n"
          ]
        }
      ]
    },
    {
      "cell_type": "code",
      "source": [
        "df.orderBy(\"dept\").show()"
      ],
      "metadata": {
        "colab": {
          "base_uri": "https://localhost:8080/"
        },
        "id": "Wm1jqQi8eL9N",
        "outputId": "e6dac584-4889-46b1-bf74-80a70a717311"
      },
      "execution_count": null,
      "outputs": [
        {
          "output_type": "stream",
          "name": "stdout",
          "text": [
            "+---------+-----------+-----------+----+--------+--------+\n",
            "|studentID|studentname|collegename|dept|subject1|subject2|\n",
            "+---------+-----------+-----------+----+--------+--------+\n",
            "| 21ALR006|    dhanush|        IIT|  AI|     100|     100|\n",
            "| 21ALR001|     akilan|        KEC|  AI|      77|      98|\n",
            "| 21ALR008|    gowtham|        IIT|  AI|      69|      96|\n",
            "| 21ALR002|       arun|        KEC|  AI|      78|      87|\n",
            "| 21ALR009|     hardik|        KEC|  AI|      86|      88|\n",
            "| 21ALR003|    arunesh|        IIT|  AI|      48|      69|\n",
            "| 21ALR004|     arvind|        KEC|  AI|      13|      65|\n",
            "| 21ALR007|     divish|        IIT| CSE|      87|      69|\n",
            "| 21ALR005|      ashok|        KEC| CSE|      76|      82|\n",
            "| 21ALR010|      kalki|        IIT|  IT|      90|      60|\n",
            "+---------+-----------+-----------+----+--------+--------+\n",
            "\n"
          ]
        }
      ]
    },
    {
      "cell_type": "code",
      "source": [
        "df.sort(df.studentname.asc(),df.dept.desc()).show()"
      ],
      "metadata": {
        "colab": {
          "base_uri": "https://localhost:8080/"
        },
        "id": "dOxJj9_Xeks6",
        "outputId": "b2a079cf-e51a-4513-854a-3aece75acdff"
      },
      "execution_count": null,
      "outputs": [
        {
          "output_type": "stream",
          "name": "stdout",
          "text": [
            "+---------+-----------+-----------+----+--------+--------+\n",
            "|studentID|studentname|collegename|dept|subject1|subject2|\n",
            "+---------+-----------+-----------+----+--------+--------+\n",
            "| 21ALR001|     akilan|        KEC|  AI|      77|      98|\n",
            "| 21ALR002|       arun|        KEC|  AI|      78|      87|\n",
            "| 21ALR003|    arunesh|        IIT|  AI|      48|      69|\n",
            "| 21ALR004|     arvind|        KEC|  AI|      13|      65|\n",
            "| 21ALR005|      ashok|        KEC| CSE|      76|      82|\n",
            "| 21ALR006|    dhanush|        IIT|  AI|     100|     100|\n",
            "| 21ALR007|     divish|        IIT| CSE|      87|      69|\n",
            "| 21ALR008|    gowtham|        IIT|  AI|      69|      96|\n",
            "| 21ALR009|     hardik|        KEC|  AI|      86|      88|\n",
            "| 21ALR010|      kalki|        IIT|  IT|      90|      60|\n",
            "+---------+-----------+-----------+----+--------+--------+\n",
            "\n"
          ]
        }
      ]
    },
    {
      "cell_type": "code",
      "source": [
        "df.groupBy(\"dept\").count().show()"
      ],
      "metadata": {
        "colab": {
          "base_uri": "https://localhost:8080/"
        },
        "id": "a3s8aWBvfAE6",
        "outputId": "08d6433a-330e-4268-ea10-c15c03fce04d"
      },
      "execution_count": null,
      "outputs": [
        {
          "output_type": "stream",
          "name": "stdout",
          "text": [
            "+----+-----+\n",
            "|dept|count|\n",
            "+----+-----+\n",
            "|  AI|    7|\n",
            "| CSE|    2|\n",
            "|  IT|    1|\n",
            "+----+-----+\n",
            "\n"
          ]
        }
      ]
    },
    {
      "cell_type": "code",
      "source": [
        "df.groupBy(\"dept\").min(\"subject1\").show()"
      ],
      "metadata": {
        "colab": {
          "base_uri": "https://localhost:8080/"
        },
        "id": "Gx9_CKnKfRiI",
        "outputId": "545b8786-55e2-4db8-c524-311a3d037769"
      },
      "execution_count": null,
      "outputs": [
        {
          "output_type": "stream",
          "name": "stdout",
          "text": [
            "+----+-------------+\n",
            "|dept|min(subject1)|\n",
            "+----+-------------+\n",
            "|  AI|           13|\n",
            "| CSE|           76|\n",
            "|  IT|           90|\n",
            "+----+-------------+\n",
            "\n"
          ]
        }
      ]
    },
    {
      "cell_type": "code",
      "source": [
        "df.groupBy(\"dept\").avg(\"subject1\").show(truncate=10)"
      ],
      "metadata": {
        "colab": {
          "base_uri": "https://localhost:8080/"
        },
        "id": "O87W39cjfgCJ",
        "outputId": "d069d850-5503-4e75-c008-08a41729f41b"
      },
      "execution_count": null,
      "outputs": [
        {
          "output_type": "stream",
          "name": "stdout",
          "text": [
            "+----+-------------+\n",
            "|dept|avg(subject1)|\n",
            "+----+-------------+\n",
            "|  AI|   67.2857...|\n",
            "| CSE|         81.5|\n",
            "|  IT|         90.0|\n",
            "+----+-------------+\n",
            "\n"
          ]
        }
      ]
    },
    {
      "cell_type": "code",
      "source": [
        "#@title\n",
        "df.groupBy(\"dept\").mean(\"subject1\").show()"
      ],
      "metadata": {
        "colab": {
          "base_uri": "https://localhost:8080/"
        },
        "id": "K4XW827lgRbJ",
        "outputId": "063c4673-0598-4e32-ead5-98edf2dff6f9"
      },
      "execution_count": null,
      "outputs": [
        {
          "output_type": "stream",
          "name": "stdout",
          "text": [
            "+----+-----------------+\n",
            "|dept|    avg(subject1)|\n",
            "+----+-----------------+\n",
            "|  AI|67.28571428571429|\n",
            "| CSE|             81.5|\n",
            "|  IT|             90.0|\n",
            "+----+-----------------+\n",
            "\n"
          ]
        }
      ]
    },
    {
      "cell_type": "code",
      "source": [
        "from pyspark.sql.functions import sum,avg,max\n",
        "df.groupBy(\"dept\").agg(sum(\"subject1\").alias(\"sum_subject1\"),avg(\"subject1\")).alias(\"avg_subject1\").show()"
      ],
      "metadata": {
        "id": "sH98njkcgVyJ",
        "colab": {
          "base_uri": "https://localhost:8080/"
        },
        "outputId": "156c70cb-8375-46d4-ac30-da398143fb4d"
      },
      "execution_count": null,
      "outputs": [
        {
          "output_type": "stream",
          "name": "stdout",
          "text": [
            "+----+------------+-----------------+\n",
            "|dept|sum_subject1|    avg(subject1)|\n",
            "+----+------------+-----------------+\n",
            "|  AI|         471|67.28571428571429|\n",
            "| CSE|         163|             81.5|\n",
            "|  IT|          90|             90.0|\n",
            "+----+------------+-----------------+\n",
            "\n"
          ]
        }
      ]
    },
    {
      "cell_type": "code",
      "source": [
        "df.select(sum(\"subject2\")).show()\n",
        "df.agg({'subject1':'max','subject2':'min'}).show()"
      ],
      "metadata": {
        "colab": {
          "base_uri": "https://localhost:8080/"
        },
        "id": "UEOcrp45iXNc",
        "outputId": "0c610a1e-d52f-4217-9e3b-2674970fe905"
      },
      "execution_count": null,
      "outputs": [
        {
          "output_type": "stream",
          "name": "stdout",
          "text": [
            "+-------------+\n",
            "|sum(subject2)|\n",
            "+-------------+\n",
            "|          814|\n",
            "+-------------+\n",
            "\n",
            "+-------------+-------------+\n",
            "|max(subject1)|min(subject2)|\n",
            "+-------------+-------------+\n",
            "|          100|           60|\n",
            "+-------------+-------------+\n",
            "\n"
          ]
        }
      ]
    }
  ]
}