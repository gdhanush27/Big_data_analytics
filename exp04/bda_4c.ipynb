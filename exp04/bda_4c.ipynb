{
  "nbformat": 4,
  "nbformat_minor": 0,
  "metadata": {
    "colab": {
      "provenance": []
    },
    "kernelspec": {
      "name": "python3",
      "display_name": "Python 3"
    },
    "language_info": {
      "name": "python"
    }
  },
  "cells": [
    {
      "cell_type": "code",
      "source": [
        "!pip install pyspark"
      ],
      "metadata": {
        "colab": {
          "base_uri": "https://localhost:8080/"
        },
        "id": "hdwkJhSMcII0",
        "outputId": "c79b8dbf-5e3b-418f-b0a9-68209145400b"
      },
      "execution_count": null,
      "outputs": [
        {
          "output_type": "stream",
          "name": "stdout",
          "text": [
            "Collecting pyspark\n",
            "  Downloading pyspark-3.4.1.tar.gz (310.8 MB)\n",
            "\u001b[2K     \u001b[90m━━━━━━━━━━━━━━━━━━━━━━━━━━━━━━━━━━━━━━━\u001b[0m \u001b[32m310.8/310.8 MB\u001b[0m \u001b[31m4.5 MB/s\u001b[0m eta \u001b[36m0:00:00\u001b[0m\n",
            "\u001b[?25h  Preparing metadata (setup.py) ... \u001b[?25l\u001b[?25hdone\n",
            "Requirement already satisfied: py4j==0.10.9.7 in /usr/local/lib/python3.10/dist-packages (from pyspark) (0.10.9.7)\n",
            "Building wheels for collected packages: pyspark\n",
            "  Building wheel for pyspark (setup.py) ... \u001b[?25l\u001b[?25hdone\n",
            "  Created wheel for pyspark: filename=pyspark-3.4.1-py2.py3-none-any.whl size=311285387 sha256=aa4dfa43161cf62e270f13c56780b1e9c8568db0b9e575f11d3a83eaf004465f\n",
            "  Stored in directory: /root/.cache/pip/wheels/0d/77/a3/ff2f74cc9ab41f8f594dabf0579c2a7c6de920d584206e0834\n",
            "Successfully built pyspark\n",
            "Installing collected packages: pyspark\n",
            "Successfully installed pyspark-3.4.1\n"
          ]
        }
      ]
    },
    {
      "cell_type": "code",
      "execution_count": null,
      "metadata": {
        "id": "HRCiFiu0b5Um"
      },
      "outputs": [],
      "source": [
        "from pyspark.sql import SparkSession\n",
        "spark = SparkSession.builder.appName('SparkByExamples.com').getOrCreate()"
      ]
    },
    {
      "cell_type": "code",
      "source": [
        "df=spark.read.csv(\"/content/insurance.csv\",header=True,inferSchema=True)"
      ],
      "metadata": {
        "id": "nJAO2jgedBms"
      },
      "execution_count": null,
      "outputs": []
    },
    {
      "cell_type": "code",
      "source": [
        "df.show(5)"
      ],
      "metadata": {
        "colab": {
          "base_uri": "https://localhost:8080/"
        },
        "id": "LkhJ_oD3dWLj",
        "outputId": "0107698c-ca90-45e8-908e-2605a99e2e4a"
      },
      "execution_count": null,
      "outputs": [
        {
          "output_type": "stream",
          "name": "stdout",
          "text": [
            "+---+------+----+--------+------+---------+--------+\n",
            "|age|   sex| bmi|children|smoker|   region|expenses|\n",
            "+---+------+----+--------+------+---------+--------+\n",
            "| 19|female|27.9|       0|   yes|southwest|16884.92|\n",
            "| 18|  male|33.8|       1|    no|southeast| 1725.55|\n",
            "| 28|  male|33.0|       3|    no|southeast| 4449.46|\n",
            "| 33|  male|22.7|       0|    no|northwest|21984.47|\n",
            "| 32|  male|28.9|       0|    no|northwest| 3866.86|\n",
            "+---+------+----+--------+------+---------+--------+\n",
            "only showing top 5 rows\n",
            "\n"
          ]
        }
      ]
    },
    {
      "cell_type": "code",
      "source": [
        "df.groupBy(\"region\").count().show()"
      ],
      "metadata": {
        "colab": {
          "base_uri": "https://localhost:8080/"
        },
        "id": "FpzHk9NodcDz",
        "outputId": "03b1cec0-3c13-498f-af77-a7504d1b415d"
      },
      "execution_count": null,
      "outputs": [
        {
          "output_type": "stream",
          "name": "stdout",
          "text": [
            "+---------+-----+\n",
            "|   region|count|\n",
            "+---------+-----+\n",
            "|northwest|  325|\n",
            "|southeast|  364|\n",
            "|northeast|  324|\n",
            "|southwest|  325|\n",
            "+---------+-----+\n",
            "\n"
          ]
        }
      ]
    },
    {
      "cell_type": "code",
      "source": [
        "df.groupBy(\"smoker\").min(\"expenses\").show()"
      ],
      "metadata": {
        "colab": {
          "base_uri": "https://localhost:8080/"
        },
        "id": "C9i3BaCFdony",
        "outputId": "565134f0-89cd-46f6-9dec-7ab432534d00"
      },
      "execution_count": null,
      "outputs": [
        {
          "output_type": "stream",
          "name": "stdout",
          "text": [
            "+------+-------------+\n",
            "|smoker|min(expenses)|\n",
            "+------+-------------+\n",
            "|    no|      1121.87|\n",
            "|   yes|     12829.46|\n",
            "+------+-------------+\n",
            "\n"
          ]
        }
      ]
    },
    {
      "cell_type": "code",
      "source": [
        "df.filter(df.age<20).count()"
      ],
      "metadata": {
        "colab": {
          "base_uri": "https://localhost:8080/"
        },
        "id": "bVFLJvs_eP9z",
        "outputId": "fc0d784e-c46d-4177-c922-1584015d4187"
      },
      "execution_count": null,
      "outputs": [
        {
          "output_type": "execute_result",
          "data": {
            "text/plain": [
              "137"
            ]
          },
          "metadata": {},
          "execution_count": 18
        }
      ]
    },
    {
      "cell_type": "code",
      "source": [
        "df.filter((df.age<20)&(df.smoker==\"yes\")).show(5)"
      ],
      "metadata": {
        "colab": {
          "base_uri": "https://localhost:8080/"
        },
        "id": "3wNPz3NvevmL",
        "outputId": "7afd50ac-27ec-4eb3-b0d2-65bcd87dafb9"
      },
      "execution_count": null,
      "outputs": [
        {
          "output_type": "stream",
          "name": "stdout",
          "text": [
            "+---+------+----+--------+------+---------+--------+\n",
            "|age|   sex| bmi|children|smoker|   region|expenses|\n",
            "+---+------+----+--------+------+---------+--------+\n",
            "| 19|female|27.9|       0|   yes|southwest|16884.92|\n",
            "| 18|  male|31.7|       2|   yes|southeast|34303.17|\n",
            "| 19|female|28.3|       0|   yes|southwest|17081.08|\n",
            "| 18|  male|25.2|       0|   yes|northeast|15518.18|\n",
            "| 18|female|36.9|       0|   yes|southeast|36149.48|\n",
            "+---+------+----+--------+------+---------+--------+\n",
            "only showing top 5 rows\n",
            "\n"
          ]
        }
      ]
    },
    {
      "cell_type": "code",
      "source": [
        "df.groupBy(\"sex\").count().show()"
      ],
      "metadata": {
        "colab": {
          "base_uri": "https://localhost:8080/"
        },
        "id": "4g0M4sLnfZdS",
        "outputId": "09dff5c9-d3ee-4326-b07f-3a865a5fa589"
      },
      "execution_count": null,
      "outputs": [
        {
          "output_type": "stream",
          "name": "stdout",
          "text": [
            "+------+-----+\n",
            "|   sex|count|\n",
            "+------+-----+\n",
            "|female|  662|\n",
            "|  male|  676|\n",
            "+------+-----+\n",
            "\n"
          ]
        }
      ]
    },
    {
      "cell_type": "code",
      "source": [
        "df.groupBy(\"children\").min().show()"
      ],
      "metadata": {
        "colab": {
          "base_uri": "https://localhost:8080/"
        },
        "id": "za5FEu_nfrvj",
        "outputId": "2d827e72-aa3d-49cb-c57b-3f429f2b125b"
      },
      "execution_count": null,
      "outputs": [
        {
          "output_type": "stream",
          "name": "stdout",
          "text": [
            "+--------+--------+--------+-------------+-------------+\n",
            "|children|min(age)|min(bmi)|min(children)|min(expenses)|\n",
            "+--------+--------+--------+-------------+-------------+\n",
            "|       1|      18|    16.8|            1|      1711.03|\n",
            "|       3|      18|    18.9|            3|      3443.06|\n",
            "|       5|      19|    18.3|            5|       4687.8|\n",
            "|       4|      18|    24.4|            4|      4504.66|\n",
            "|       2|      18|    16.8|            2|       2304.0|\n",
            "|       0|      18|    16.0|            0|      1121.87|\n",
            "+--------+--------+--------+-------------+-------------+\n",
            "\n"
          ]
        }
      ]
    },
    {
      "cell_type": "code",
      "source": [
        "df1=df.groupBy(\"children\").max()\n",
        "df1.show()"
      ],
      "metadata": {
        "colab": {
          "base_uri": "https://localhost:8080/"
        },
        "id": "NgTLHk5Rf3W6",
        "outputId": "da5107a8-77d0-4861-d33f-b4fbb05534fa"
      },
      "execution_count": null,
      "outputs": [
        {
          "output_type": "stream",
          "name": "stdout",
          "text": [
            "+--------+--------+--------+-------------+-------------+\n",
            "|children|max(age)|max(bmi)|max(children)|max(expenses)|\n",
            "+--------+--------+--------+-------------+-------------+\n",
            "|       1|      64|    52.6|            1|     58571.07|\n",
            "|       3|      64|    46.5|            3|      60021.4|\n",
            "|       5|      52|    46.8|            5|     19023.26|\n",
            "|       4|      61|    41.5|            4|     40182.25|\n",
            "|       2|      64|    48.1|            2|     49577.66|\n",
            "|       0|      64|    53.1|            0|     63770.43|\n",
            "+--------+--------+--------+-------------+-------------+\n",
            "\n"
          ]
        }
      ]
    },
    {
      "cell_type": "code",
      "source": [
        "df1.sort(\"children\").show()"
      ],
      "metadata": {
        "colab": {
          "base_uri": "https://localhost:8080/"
        },
        "id": "jeRy7PZlgErC",
        "outputId": "23ed1c68-3658-4dcf-b629-7a817823e5be"
      },
      "execution_count": null,
      "outputs": [
        {
          "output_type": "stream",
          "name": "stdout",
          "text": [
            "+--------+--------+--------+-------------+-------------+\n",
            "|children|max(age)|max(bmi)|max(children)|max(expenses)|\n",
            "+--------+--------+--------+-------------+-------------+\n",
            "|       0|      64|    53.1|            0|     63770.43|\n",
            "|       1|      64|    52.6|            1|     58571.07|\n",
            "|       2|      64|    48.1|            2|     49577.66|\n",
            "|       3|      64|    46.5|            3|      60021.4|\n",
            "|       4|      61|    41.5|            4|     40182.25|\n",
            "|       5|      52|    46.8|            5|     19023.26|\n",
            "+--------+--------+--------+-------------+-------------+\n",
            "\n"
          ]
        }
      ]
    }
  ]
}