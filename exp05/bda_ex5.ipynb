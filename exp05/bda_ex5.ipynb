{
  "nbformat": 4,
  "nbformat_minor": 0,
  "metadata": {
    "colab": {
      "provenance": []
    },
    "kernelspec": {
      "name": "python3",
      "display_name": "Python 3"
    },
    "language_info": {
      "name": "python"
    }
  },
  "cells": [
    {
      "cell_type": "code",
      "execution_count": null,
      "metadata": {
        "colab": {
          "base_uri": "https://localhost:8080/"
        },
        "id": "ybjvEoyOKv3h",
        "outputId": "b32d7271-adb3-4259-8818-9ab27de54df0"
      },
      "outputs": [
        {
          "output_type": "stream",
          "name": "stdout",
          "text": [
            "Collecting pyspark\n",
            "  Downloading pyspark-3.4.1.tar.gz (310.8 MB)\n",
            "\u001b[2K     \u001b[90m━━━━━━━━━━━━━━━━━━━━━━━━━━━━━━━━━━━━━━━\u001b[0m \u001b[32m310.8/310.8 MB\u001b[0m \u001b[31m4.0 MB/s\u001b[0m eta \u001b[36m0:00:00\u001b[0m\n",
            "\u001b[?25h  Preparing metadata (setup.py) ... \u001b[?25l\u001b[?25hdone\n",
            "Requirement already satisfied: py4j==0.10.9.7 in /usr/local/lib/python3.10/dist-packages (from pyspark) (0.10.9.7)\n",
            "Building wheels for collected packages: pyspark\n",
            "  Building wheel for pyspark (setup.py) ... \u001b[?25l\u001b[?25hdone\n",
            "  Created wheel for pyspark: filename=pyspark-3.4.1-py2.py3-none-any.whl size=311285387 sha256=bff3bd29940965961d5e0171470e1c52603ae3ce87f9f279929f0a99d3c37b62\n",
            "  Stored in directory: /root/.cache/pip/wheels/0d/77/a3/ff2f74cc9ab41f8f594dabf0579c2a7c6de920d584206e0834\n",
            "Successfully built pyspark\n",
            "Installing collected packages: pyspark\n",
            "Successfully installed pyspark-3.4.1\n"
          ]
        }
      ],
      "source": [
        "!pip install pyspark"
      ]
    },
    {
      "cell_type": "code",
      "source": [
        "from pyspark.sql import SparkSession\n",
        "spark = SparkSession.builder.master('local[1]').appName('spark.com').enableHiveSupport().getOrCreate()"
      ],
      "metadata": {
        "id": "oOpvZ6hXK4jB"
      },
      "execution_count": null,
      "outputs": []
    },
    {
      "cell_type": "code",
      "source": [
        "data = [(\"Alice\",28,\"Male\"),(\"Bob\",22,\"Male\"),(\"Charlie\",35,\"Male\"),(\"Anna\",32,\"Female\")]\n",
        "columns = [\"name\",\"age\",\"gender\"]\n",
        "df = spark.createDataFrame(data, columns)"
      ],
      "metadata": {
        "id": "Kh5Rk7BlL3la"
      },
      "execution_count": null,
      "outputs": []
    },
    {
      "cell_type": "code",
      "source": [
        "#using dataframeAPI\n",
        "df.createOrReplaceTempView(\"people\")\n",
        "df.write.saveAsTable(\"new_table_name_1\")\n",
        "df.printSchema()"
      ],
      "metadata": {
        "colab": {
          "base_uri": "https://localhost:8080/"
        },
        "id": "PsQFMEG_MjmZ",
        "outputId": "ec625a22-82ea-4bcd-9db8-0798d36d9f40"
      },
      "execution_count": null,
      "outputs": [
        {
          "output_type": "stream",
          "name": "stdout",
          "text": [
            "root\n",
            " |-- name: string (nullable = true)\n",
            " |-- age: long (nullable = true)\n",
            " |-- gender: string (nullable = true)\n",
            "\n"
          ]
        }
      ]
    },
    {
      "cell_type": "code",
      "source": [
        "#SQL API\n",
        "spark.sql(\"CREATE TABLE new_table_name_2 AS SELECT * FROM people\")"
      ],
      "metadata": {
        "colab": {
          "base_uri": "https://localhost:8080/"
        },
        "id": "yr5qsTHROvap",
        "outputId": "90622a3d-f185-47c8-bbee-8c2b38fb8fa7"
      },
      "execution_count": null,
      "outputs": [
        {
          "output_type": "execute_result",
          "data": {
            "text/plain": [
              "DataFrame[]"
            ]
          },
          "metadata": {},
          "execution_count": 5
        }
      ]
    },
    {
      "cell_type": "code",
      "source": [
        "result = spark.sql(\"SELECT * FROM people\")\n",
        "result.show()"
      ],
      "metadata": {
        "colab": {
          "base_uri": "https://localhost:8080/"
        },
        "id": "4oRRWsbMPIqw",
        "outputId": "b7bc65d2-36be-4036-ae08-14a78d61e8c6"
      },
      "execution_count": null,
      "outputs": [
        {
          "output_type": "stream",
          "name": "stdout",
          "text": [
            "+-------+---+------+\n",
            "|   name|age|gender|\n",
            "+-------+---+------+\n",
            "|  Alice| 28|  Male|\n",
            "|    Bob| 22|  Male|\n",
            "|Charlie| 35|  Male|\n",
            "|   Anna| 32|Female|\n",
            "+-------+---+------+\n",
            "\n"
          ]
        }
      ]
    },
    {
      "cell_type": "code",
      "source": [
        "result = spark.sql(\"SELECT * FROM people WHERE age > 25\")\n",
        "result.show()"
      ],
      "metadata": {
        "colab": {
          "base_uri": "https://localhost:8080/"
        },
        "id": "5nM6nSrEPrgA",
        "outputId": "b23eb371-ff66-42ef-b9e9-a52aefbf48f3"
      },
      "execution_count": null,
      "outputs": [
        {
          "output_type": "stream",
          "name": "stdout",
          "text": [
            "+-------+---+------+\n",
            "|   name|age|gender|\n",
            "+-------+---+------+\n",
            "|  Alice| 28|  Male|\n",
            "|Charlie| 35|  Male|\n",
            "|   Anna| 32|Female|\n",
            "+-------+---+------+\n",
            "\n"
          ]
        }
      ]
    },
    {
      "cell_type": "code",
      "source": [
        "spark.sql(\"DESCRIBE new_table_name_2\").show()"
      ],
      "metadata": {
        "colab": {
          "base_uri": "https://localhost:8080/"
        },
        "id": "Kf26IUNCP063",
        "outputId": "b314c4c3-75d2-4f33-b32a-497338b0b88d"
      },
      "execution_count": null,
      "outputs": [
        {
          "output_type": "stream",
          "name": "stdout",
          "text": [
            "+--------+---------+-------+\n",
            "|col_name|data_type|comment|\n",
            "+--------+---------+-------+\n",
            "|    name|   string|   null|\n",
            "|     age|   bigint|   null|\n",
            "|  gender|   string|   null|\n",
            "+--------+---------+-------+\n",
            "\n"
          ]
        }
      ]
    },
    {
      "cell_type": "code",
      "source": [
        "#SQL API\n",
        "spark.sql(\"SHOW COLUMNS FROM new_table_name_2\").show()"
      ],
      "metadata": {
        "colab": {
          "base_uri": "https://localhost:8080/"
        },
        "id": "PmfcAOYgP9sg",
        "outputId": "eae8a556-bb6e-4049-9bb5-b47687882d6e"
      },
      "execution_count": null,
      "outputs": [
        {
          "output_type": "stream",
          "name": "stdout",
          "text": [
            "+--------+\n",
            "|col_name|\n",
            "+--------+\n",
            "|    name|\n",
            "|     age|\n",
            "|  gender|\n",
            "+--------+\n",
            "\n"
          ]
        }
      ]
    },
    {
      "cell_type": "code",
      "source": [
        "#Dframe API\n",
        "from pyspark.sql import functions as F\n",
        "df.withColumn(\"new_column\",F.lit(\"some_value\")).write.saveAsTable(\"new_table_name_3\")"
      ],
      "metadata": {
        "id": "Na-fSkybQGeX"
      },
      "execution_count": null,
      "outputs": []
    },
    {
      "cell_type": "code",
      "source": [
        "#SQL API\n",
        "spark.sql(\"ALTER TABLE new_table_name_2 ADD COLUMN new_column STRING\")"
      ],
      "metadata": {
        "colab": {
          "base_uri": "https://localhost:8080/"
        },
        "id": "faWBz_ZlRNzQ",
        "outputId": "861f4d70-bbcd-48e9-d630-798c87df4dcb"
      },
      "execution_count": null,
      "outputs": [
        {
          "output_type": "execute_result",
          "data": {
            "text/plain": [
              "DataFrame[]"
            ]
          },
          "metadata": {},
          "execution_count": 12
        }
      ]
    },
    {
      "cell_type": "code",
      "source": [
        "#Dframe API\n",
        "new_data = [(\"David\",45,\"Male\"),(\"Ella\",25,\"Female\")]\n",
        "new_df = spark.createDataFrame(new_data, columns)\n",
        "new_df.write.insertInto(\"new_table_name_1\")"
      ],
      "metadata": {
        "id": "9BGWh-ltRYsv"
      },
      "execution_count": null,
      "outputs": []
    },
    {
      "cell_type": "code",
      "source": [
        "#SQL API\n",
        "spark.sql(\"INSERT INTO TABLE new_table_name_2 VALUES ('David',30,'Male','KEC'),('Ella',25,'Female','KEC')\")"
      ],
      "metadata": {
        "colab": {
          "base_uri": "https://localhost:8080/"
        },
        "id": "n3NEp53MR1Ng",
        "outputId": "d83917bf-3777-493b-d39d-8e0b6b0286d2"
      },
      "execution_count": null,
      "outputs": [
        {
          "output_type": "execute_result",
          "data": {
            "text/plain": [
              "DataFrame[]"
            ]
          },
          "metadata": {},
          "execution_count": 17
        }
      ]
    },
    {
      "cell_type": "code",
      "source": [
        "#SQL API\n",
        "spark.sql(\"SELECT * FROM new_table_name_2\").show()"
      ],
      "metadata": {
        "colab": {
          "base_uri": "https://localhost:8080/"
        },
        "id": "kKLekeomSonP",
        "outputId": "f227a949-c79f-455e-dbe2-104591694595"
      },
      "execution_count": null,
      "outputs": [
        {
          "output_type": "stream",
          "name": "stdout",
          "text": [
            "+-------+---+------+----------+\n",
            "|   name|age|gender|new_column|\n",
            "+-------+---+------+----------+\n",
            "|  Alice| 28|  Male|      null|\n",
            "|    Bob| 22|  Male|      null|\n",
            "|Charlie| 35|  Male|      null|\n",
            "|   Anna| 32|Female|      null|\n",
            "|  David| 30|  Male|       KEC|\n",
            "|   Ella| 25|Female|       KEC|\n",
            "+-------+---+------+----------+\n",
            "\n"
          ]
        }
      ]
    },
    {
      "cell_type": "code",
      "source": [
        "#update query is not possilbe in SQL API\n",
        "#Dframe API\n",
        "df = spark.read.table(\"new_table_name_2\")\n",
        "df.show()"
      ],
      "metadata": {
        "colab": {
          "base_uri": "https://localhost:8080/"
        },
        "id": "ugwB-VjlS6P_",
        "outputId": "2dea0801-24c3-4794-892d-b61f0b2a46c1"
      },
      "execution_count": null,
      "outputs": [
        {
          "output_type": "stream",
          "name": "stdout",
          "text": [
            "+-------+---+------+----------+\n",
            "|   name|age|gender|new_column|\n",
            "+-------+---+------+----------+\n",
            "|  Alice| 28|  Male|      null|\n",
            "|    Bob| 22|  Male|      null|\n",
            "|Charlie| 35|  Male|      null|\n",
            "|   Anna| 32|Female|      null|\n",
            "|  David| 30|  Male|       KEC|\n",
            "|   Ella| 25|Female|       KEC|\n",
            "+-------+---+------+----------+\n",
            "\n"
          ]
        }
      ]
    },
    {
      "cell_type": "code",
      "source": [
        "df = df.withColumn(\"age_plus_5\",F.expr(\"age + 5\"))\n",
        "df.show()"
      ],
      "metadata": {
        "colab": {
          "base_uri": "https://localhost:8080/"
        },
        "id": "abKzbeakTO_u",
        "outputId": "0922c6a4-40bd-42f0-9730-77ab5a4f181a"
      },
      "execution_count": null,
      "outputs": [
        {
          "output_type": "stream",
          "name": "stdout",
          "text": [
            "+-------+---+------+----------+----------+\n",
            "|   name|age|gender|new_column|age_plus_5|\n",
            "+-------+---+------+----------+----------+\n",
            "|  Alice| 28|  Male|      null|        33|\n",
            "|    Bob| 22|  Male|      null|        27|\n",
            "|Charlie| 35|  Male|      null|        40|\n",
            "|   Anna| 32|Female|      null|        37|\n",
            "|  David| 30|  Male|       KEC|        35|\n",
            "|   Ella| 25|Female|       KEC|        30|\n",
            "+-------+---+------+----------+----------+\n",
            "\n"
          ]
        }
      ]
    },
    {
      "cell_type": "code",
      "source": [
        "updated_df = df.withColumn(\"age\",F.expr(\"age + 1\"))\n",
        "updated_df.show()"
      ],
      "metadata": {
        "colab": {
          "base_uri": "https://localhost:8080/"
        },
        "id": "tbaVBu9LTXd3",
        "outputId": "26ec89cb-3de3-4aff-ce94-156a6bf3cea0"
      },
      "execution_count": null,
      "outputs": [
        {
          "output_type": "stream",
          "name": "stdout",
          "text": [
            "+-------+---+------+----------+----------+\n",
            "|   name|age|gender|new_column|age_plus_5|\n",
            "+-------+---+------+----------+----------+\n",
            "|  Alice| 29|  Male|      null|        33|\n",
            "|    Bob| 23|  Male|      null|        27|\n",
            "|Charlie| 36|  Male|      null|        40|\n",
            "|   Anna| 33|Female|      null|        37|\n",
            "|  David| 31|  Male|       KEC|        35|\n",
            "|   Ella| 26|Female|       KEC|        30|\n",
            "+-------+---+------+----------+----------+\n",
            "\n"
          ]
        }
      ]
    },
    {
      "cell_type": "code",
      "source": [
        "updated_df = df.withColumn(\"is_adult\",F.when(F.expr(\"age>=18\"),\"Yes\").otherwise(\"No\"))\n",
        "updated_df.show()"
      ],
      "metadata": {
        "colab": {
          "base_uri": "https://localhost:8080/"
        },
        "id": "16kFM9mNThpf",
        "outputId": "6834e972-be62-4a41-dd64-17545a9e8253"
      },
      "execution_count": null,
      "outputs": [
        {
          "output_type": "stream",
          "name": "stdout",
          "text": [
            "+-------+---+------+----------+----------+--------+\n",
            "|   name|age|gender|new_column|age_plus_5|is_adult|\n",
            "+-------+---+------+----------+----------+--------+\n",
            "|  Alice| 28|  Male|      null|        33|     Yes|\n",
            "|    Bob| 22|  Male|      null|        27|     Yes|\n",
            "|Charlie| 35|  Male|      null|        40|     Yes|\n",
            "|   Anna| 32|Female|      null|        37|     Yes|\n",
            "|  David| 30|  Male|       KEC|        35|     Yes|\n",
            "|   Ella| 25|Female|       KEC|        30|     Yes|\n",
            "+-------+---+------+----------+----------+--------+\n",
            "\n"
          ]
        }
      ]
    },
    {
      "cell_type": "code",
      "source": [
        "update_cnt = (F.col(\"name\")==\"Bob\")\n",
        "updated_df = df.withColumn(\"age\",F.when(update_cnt,25).otherwise(F.col(\"age\")))\n",
        "updated_df.show()"
      ],
      "metadata": {
        "colab": {
          "base_uri": "https://localhost:8080/"
        },
        "id": "wvd17-WlT1c_",
        "outputId": "a3bdbd7b-71e0-4c9f-e2f9-3625337c60cf"
      },
      "execution_count": null,
      "outputs": [
        {
          "output_type": "stream",
          "name": "stdout",
          "text": [
            "+-------+---+------+----------+----------+\n",
            "|   name|age|gender|new_column|age_plus_5|\n",
            "+-------+---+------+----------+----------+\n",
            "|  Alice| 28|  Male|      null|        33|\n",
            "|    Bob| 25|  Male|      null|        27|\n",
            "|Charlie| 35|  Male|      null|        40|\n",
            "|   Anna| 32|Female|      null|        37|\n",
            "|  David| 30|  Male|       KEC|        35|\n",
            "|   Ella| 25|Female|       KEC|        30|\n",
            "+-------+---+------+----------+----------+\n",
            "\n"
          ]
        }
      ]
    },
    {
      "cell_type": "code",
      "source": [
        "job_value = \"Engineer\"\n",
        "df_with_job = df.withColumn(\"job\",F.lit(job_value))\n",
        "df_with_job.show()"
      ],
      "metadata": {
        "colab": {
          "base_uri": "https://localhost:8080/"
        },
        "id": "nHyUvl3bUUxX",
        "outputId": "080a13ab-f21f-4990-923c-9dd561cc369c"
      },
      "execution_count": null,
      "outputs": [
        {
          "output_type": "stream",
          "name": "stdout",
          "text": [
            "+-------+---+------+----------+----------+--------+\n",
            "|   name|age|gender|new_column|age_plus_5|     job|\n",
            "+-------+---+------+----------+----------+--------+\n",
            "|  Alice| 28|  Male|      null|        33|Engineer|\n",
            "|    Bob| 22|  Male|      null|        27|Engineer|\n",
            "|Charlie| 35|  Male|      null|        40|Engineer|\n",
            "|   Anna| 32|Female|      null|        37|Engineer|\n",
            "|  David| 30|  Male|       KEC|        35|Engineer|\n",
            "|   Ella| 25|Female|       KEC|        30|Engineer|\n",
            "+-------+---+------+----------+----------+--------+\n",
            "\n"
          ]
        }
      ]
    },
    {
      "cell_type": "code",
      "source": [
        "update_cnt = (F.col(\"name\").isin([\"Alice\",\"Charlie\"]))\n",
        "age_update_expr = F.when(update_cnt,F.col(\"age\")+5).otherwise(F.col(\"age\"))\n",
        "updated_df = df_with_job.withColumn(\"job\",job_update_expr).withColumn(\"age\",age_update_expr)"
      ],
      "metadata": {
        "id": "XLlr6bWOVWAP"
      },
      "execution_count": null,
      "outputs": []
    },
    {
      "cell_type": "code",
      "source": [
        "updated_df.show()"
      ],
      "metadata": {
        "colab": {
          "base_uri": "https://localhost:8080/"
        },
        "id": "wc5sDfPXWNUE",
        "outputId": "7772944d-f4d3-456e-ef97-4331192fe950"
      },
      "execution_count": null,
      "outputs": [
        {
          "output_type": "stream",
          "name": "stdout",
          "text": [
            "+-------+---+------+----------+----------+---+\n",
            "|   name|age|gender|new_column|age_plus_5|job|\n",
            "+-------+---+------+----------+----------+---+\n",
            "|  Alice| 33|  Male|      null|        33| 33|\n",
            "|    Bob| 22|  Male|      null|        27| 22|\n",
            "|Charlie| 40|  Male|      null|        40| 40|\n",
            "|   Anna| 32|Female|      null|        37| 32|\n",
            "|  David| 30|  Male|       KEC|        35| 30|\n",
            "|   Ella| 25|Female|       KEC|        30| 25|\n",
            "+-------+---+------+----------+----------+---+\n",
            "\n"
          ]
        }
      ]
    },
    {
      "cell_type": "code",
      "source": [
        "#Delete is not working\n",
        "update_df = updated_df.filter(df[\"name\"]!=\"Bob\")\n",
        "update_df.show()"
      ],
      "metadata": {
        "colab": {
          "base_uri": "https://localhost:8080/"
        },
        "id": "YMNudUsZWa3n",
        "outputId": "d10d5362-faab-47c9-d200-62a1f910924f"
      },
      "execution_count": null,
      "outputs": [
        {
          "output_type": "stream",
          "name": "stdout",
          "text": [
            "+-------+---+------+----------+----------+---+\n",
            "|   name|age|gender|new_column|age_plus_5|job|\n",
            "+-------+---+------+----------+----------+---+\n",
            "|  Alice| 33|  Male|      null|        33| 33|\n",
            "|Charlie| 40|  Male|      null|        40| 40|\n",
            "|   Anna| 32|Female|      null|        37| 32|\n",
            "|  David| 30|  Male|       KEC|        35| 30|\n",
            "|   Ella| 25|Female|       KEC|        30| 25|\n",
            "+-------+---+------+----------+----------+---+\n",
            "\n"
          ]
        }
      ]
    }
  ]
}